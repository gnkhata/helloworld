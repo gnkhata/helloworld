{
  "cells": [
    {
      "cell_type": "markdown",
      "metadata": {
        "id": "view-in-github",
        "colab_type": "text"
      },
      "source": [
        "<a href=\"https://colab.research.google.com/github/gnkhata/helloworld/blob/main/AI_Homework4.ipynb\" target=\"_parent\"><img src=\"https://colab.research.google.com/assets/colab-badge.svg\" alt=\"Open In Colab\"/></a>"
      ]
    },
    {
      "cell_type": "markdown",
      "metadata": {
        "id": "xcRVUziqz7hB"
      },
      "source": [
        "# Assignment 4\n",
        "\n",
        "This is an basecode for assignment 4 of Artificial Intelligence class (CSCE-4613), Spring 2023\n"
      ]
    },
    {
      "cell_type": "code",
      "execution_count": 1,
      "metadata": {
        "id": "Ih72pU-4h0BT",
        "vscode": {
          "languageId": "python"
        }
      },
      "outputs": [],
      "source": [
        "import torch\n",
        "import torch.nn as nn\n",
        "import torchvision\n",
        "\n",
        "import matplotlib.pyplot as plt \n",
        "from timeit import default_timer as timer\n",
        "from datetime import timedelta\n",
        "from sklearn.metrics import confusion_matrix"
      ]
    },
    {
      "cell_type": "markdown",
      "metadata": {
        "id": "Q6NBXrZkzlhS"
      },
      "source": [
        "## Binary Network\n",
        "\n",
        "## Define a binary network class\n"
      ]
    },
    {
      "cell_type": "code",
      "execution_count": 2,
      "metadata": {
        "id": "XXkjOLlQh4B0",
        "vscode": {
          "languageId": "python"
        }
      },
      "outputs": [],
      "source": [
        "class BinaryNetwork(nn.Module):\n",
        "  def __init__(self, hidden_dims = [4]):\n",
        "    super(BinaryNetwork, self).__init__()\n",
        "    self.network_dims = [2] + hidden_dims + [1]\n",
        "    self.layers = [] \n",
        "    for i, dim in enumerate(self.network_dims[1:]):\n",
        "      prev_dim = self.network_dims[i]\n",
        "      dense = nn.Linear(in_features = prev_dim, out_features = dim, bias = True)\n",
        "      activation = nn.Sigmoid()\n",
        "      self.layers += [dense, activation]\n",
        "    self.layers = nn.ModuleList(self.layers)\n",
        "\n",
        "  def forward(self, x):\n",
        "    for layer in self.layers:\n",
        "      x = layer(x)\n",
        "    return x"
      ]
    },
    {
      "cell_type": "markdown",
      "metadata": {
        "id": "Jt_O-MPTzxo1"
      },
      "source": [
        "### Define data generator"
      ]
    },
    {
      "cell_type": "code",
      "execution_count": null,
      "metadata": {
        "id": "ZU9RPLbqi-tL",
        "vscode": {
          "languageId": "python"
        }
      },
      "outputs": [],
      "source": [
        "def generate_data(operator = \"AND\"):\n",
        "  assert operator in [\"AND\", \"OR\", \"XOR\", \"NOR\"], \"%s operator is not valid\" % operator\n",
        "  data = []\n",
        "  label = [] \n",
        "  for i in range(2):\n",
        "    for j in range(2):\n",
        "      data.append([i, j])\n",
        "      if operator == \"AND\":\n",
        "        label.append(i & j)\n",
        "      elif operator == \"OR\":\n",
        "        label.append(i | j)\n",
        "      elif operator == \"XOR\":\n",
        "        label.append(i ^ j)\n",
        "      else:\n",
        "        label.append(not (i | j))\n",
        "  data = torch.as_tensor(data, dtype = torch.float32)\n",
        "  label = torch.as_tensor(label, dtype = torch.float32)\n",
        "  return data, label"
      ]
    },
    {
      "cell_type": "markdown",
      "metadata": {
        "id": "6rKa_T9az3G6"
      },
      "source": [
        "### Define the training framework"
      ]
    },
    {
      "cell_type": "code",
      "execution_count": null,
      "metadata": {
        "colab": {
          "base_uri": "https://localhost:8080/"
        },
        "id": "nbF7qM7LkqFc",
        "outputId": "83b9035a-999f-49c3-b943-0bf76a3c4edb",
        "vscode": {
          "languageId": "python"
        }
      },
      "outputs": [
        {
          "output_type": "stream",
          "name": "stdout",
          "text": [
            "BinaryNetwork(\n",
            "  (layers): ModuleList(\n",
            "    (0): Linear(in_features=2, out_features=5, bias=True)\n",
            "    (1): Sigmoid()\n",
            "    (2): Linear(in_features=5, out_features=1, bias=True)\n",
            "    (3): Sigmoid()\n",
            "  )\n",
            ")\n",
            "[5/1000]. Loss: 0.6954. Accuracy: 50.00\n",
            "[10/1000]. Loss: 0.6951. Accuracy: 50.00\n",
            "[15/1000]. Loss: 0.6952. Accuracy: 50.00\n",
            "[20/1000]. Loss: 0.6937. Accuracy: 50.00\n",
            "[25/1000]. Loss: 0.6943. Accuracy: 50.00\n",
            "[30/1000]. Loss: 0.6936. Accuracy: 50.00\n",
            "[35/1000]. Loss: 0.6937. Accuracy: 50.00\n",
            "[40/1000]. Loss: 0.6936. Accuracy: 50.00\n",
            "[45/1000]. Loss: 0.6935. Accuracy: 75.00\n",
            "[50/1000]. Loss: 0.6935. Accuracy: 50.00\n",
            "[55/1000]. Loss: 0.6935. Accuracy: 50.00\n",
            "[60/1000]. Loss: 0.6935. Accuracy: 50.00\n",
            "[65/1000]. Loss: 0.6934. Accuracy: 50.00\n",
            "[70/1000]. Loss: 0.6934. Accuracy: 50.00\n",
            "[75/1000]. Loss: 0.6934. Accuracy: 50.00\n",
            "[80/1000]. Loss: 0.6934. Accuracy: 50.00\n",
            "[85/1000]. Loss: 0.6934. Accuracy: 50.00\n",
            "[90/1000]. Loss: 0.6933. Accuracy: 50.00\n",
            "[95/1000]. Loss: 0.6933. Accuracy: 50.00\n",
            "[100/1000]. Loss: 0.6933. Accuracy: 50.00\n",
            "[105/1000]. Loss: 0.6933. Accuracy: 50.00\n",
            "[110/1000]. Loss: 0.6933. Accuracy: 50.00\n",
            "[115/1000]. Loss: 0.6933. Accuracy: 50.00\n",
            "[120/1000]. Loss: 0.6933. Accuracy: 50.00\n",
            "[125/1000]. Loss: 0.6932. Accuracy: 50.00\n",
            "[130/1000]. Loss: 0.6932. Accuracy: 50.00\n",
            "[135/1000]. Loss: 0.6932. Accuracy: 50.00\n",
            "[140/1000]. Loss: 0.6932. Accuracy: 50.00\n",
            "[145/1000]. Loss: 0.6932. Accuracy: 50.00\n",
            "[150/1000]. Loss: 0.6932. Accuracy: 50.00\n",
            "[155/1000]. Loss: 0.6932. Accuracy: 50.00\n",
            "[160/1000]. Loss: 0.6932. Accuracy: 50.00\n",
            "[165/1000]. Loss: 0.6931. Accuracy: 50.00\n",
            "[170/1000]. Loss: 0.6931. Accuracy: 50.00\n",
            "[175/1000]. Loss: 0.6931. Accuracy: 50.00\n",
            "[180/1000]. Loss: 0.6931. Accuracy: 50.00\n",
            "[185/1000]. Loss: 0.6931. Accuracy: 50.00\n",
            "[190/1000]. Loss: 0.6931. Accuracy: 50.00\n",
            "[195/1000]. Loss: 0.6931. Accuracy: 50.00\n",
            "[200/1000]. Loss: 0.6930. Accuracy: 50.00\n",
            "[205/1000]. Loss: 0.6930. Accuracy: 50.00\n",
            "[210/1000]. Loss: 0.6930. Accuracy: 50.00\n",
            "[215/1000]. Loss: 0.6930. Accuracy: 50.00\n",
            "[220/1000]. Loss: 0.6930. Accuracy: 50.00\n",
            "[225/1000]. Loss: 0.6930. Accuracy: 50.00\n",
            "[230/1000]. Loss: 0.6930. Accuracy: 50.00\n",
            "[235/1000]. Loss: 0.6929. Accuracy: 50.00\n",
            "[240/1000]. Loss: 0.6929. Accuracy: 50.00\n",
            "[245/1000]. Loss: 0.6929. Accuracy: 50.00\n",
            "[250/1000]. Loss: 0.6929. Accuracy: 50.00\n",
            "[255/1000]. Loss: 0.6929. Accuracy: 50.00\n",
            "[260/1000]. Loss: 0.6929. Accuracy: 50.00\n",
            "[265/1000]. Loss: 0.6928. Accuracy: 50.00\n",
            "[270/1000]. Loss: 0.6928. Accuracy: 50.00\n",
            "[275/1000]. Loss: 0.6928. Accuracy: 50.00\n",
            "[280/1000]. Loss: 0.6928. Accuracy: 50.00\n",
            "[285/1000]. Loss: 0.6928. Accuracy: 50.00\n",
            "[290/1000]. Loss: 0.6927. Accuracy: 50.00\n",
            "[295/1000]. Loss: 0.6927. Accuracy: 50.00\n",
            "[300/1000]. Loss: 0.6927. Accuracy: 50.00\n",
            "[305/1000]. Loss: 0.6927. Accuracy: 50.00\n",
            "[310/1000]. Loss: 0.6926. Accuracy: 50.00\n",
            "[315/1000]. Loss: 0.6926. Accuracy: 50.00\n",
            "[320/1000]. Loss: 0.6926. Accuracy: 50.00\n",
            "[325/1000]. Loss: 0.6925. Accuracy: 50.00\n",
            "[330/1000]. Loss: 0.6925. Accuracy: 50.00\n",
            "[335/1000]. Loss: 0.6925. Accuracy: 50.00\n",
            "[340/1000]. Loss: 0.6924. Accuracy: 50.00\n",
            "[345/1000]. Loss: 0.6924. Accuracy: 50.00\n",
            "[350/1000]. Loss: 0.6923. Accuracy: 50.00\n",
            "[355/1000]. Loss: 0.6923. Accuracy: 50.00\n",
            "[360/1000]. Loss: 0.6922. Accuracy: 50.00\n",
            "[365/1000]. Loss: 0.6922. Accuracy: 50.00\n",
            "[370/1000]. Loss: 0.6921. Accuracy: 50.00\n",
            "[375/1000]. Loss: 0.6920. Accuracy: 50.00\n",
            "[380/1000]. Loss: 0.6920. Accuracy: 50.00\n",
            "[385/1000]. Loss: 0.6919. Accuracy: 50.00\n",
            "[390/1000]. Loss: 0.6918. Accuracy: 50.00\n",
            "[395/1000]. Loss: 0.6917. Accuracy: 50.00\n",
            "[400/1000]. Loss: 0.6916. Accuracy: 50.00\n",
            "[405/1000]. Loss: 0.6915. Accuracy: 50.00\n",
            "[410/1000]. Loss: 0.6914. Accuracy: 50.00\n",
            "[415/1000]. Loss: 0.6913. Accuracy: 50.00\n",
            "[420/1000]. Loss: 0.6911. Accuracy: 50.00\n",
            "[425/1000]. Loss: 0.6910. Accuracy: 50.00\n",
            "[430/1000]. Loss: 0.6908. Accuracy: 50.00\n",
            "[435/1000]. Loss: 0.6906. Accuracy: 50.00\n",
            "[440/1000]. Loss: 0.6904. Accuracy: 50.00\n",
            "[445/1000]. Loss: 0.6902. Accuracy: 50.00\n",
            "[450/1000]. Loss: 0.6900. Accuracy: 50.00\n",
            "[455/1000]. Loss: 0.6897. Accuracy: 50.00\n",
            "[460/1000]. Loss: 0.6894. Accuracy: 50.00\n",
            "[465/1000]. Loss: 0.6891. Accuracy: 50.00\n",
            "[470/1000]. Loss: 0.6887. Accuracy: 50.00\n",
            "[475/1000]. Loss: 0.6883. Accuracy: 50.00\n",
            "[480/1000]. Loss: 0.6879. Accuracy: 50.00\n",
            "[485/1000]. Loss: 0.6874. Accuracy: 50.00\n",
            "[490/1000]. Loss: 0.6868. Accuracy: 50.00\n",
            "[495/1000]. Loss: 0.6862. Accuracy: 50.00\n",
            "[500/1000]. Loss: 0.6855. Accuracy: 50.00\n",
            "[505/1000]. Loss: 0.6847. Accuracy: 50.00\n",
            "[510/1000]. Loss: 0.6838. Accuracy: 50.00\n",
            "[515/1000]. Loss: 0.6828. Accuracy: 50.00\n",
            "[520/1000]. Loss: 0.6817. Accuracy: 50.00\n",
            "[525/1000]. Loss: 0.6805. Accuracy: 50.00\n",
            "[530/1000]. Loss: 0.6791. Accuracy: 75.00\n",
            "[535/1000]. Loss: 0.6776. Accuracy: 75.00\n",
            "[540/1000]. Loss: 0.6758. Accuracy: 75.00\n",
            "[545/1000]. Loss: 0.6739. Accuracy: 75.00\n",
            "[550/1000]. Loss: 0.6717. Accuracy: 75.00\n",
            "[555/1000]. Loss: 0.6693. Accuracy: 75.00\n",
            "[560/1000]. Loss: 0.6666. Accuracy: 75.00\n",
            "[565/1000]. Loss: 0.6636. Accuracy: 75.00\n",
            "[570/1000]. Loss: 0.6603. Accuracy: 75.00\n",
            "[575/1000]. Loss: 0.6566. Accuracy: 75.00\n",
            "[580/1000]. Loss: 0.6526. Accuracy: 75.00\n",
            "[585/1000]. Loss: 0.6483. Accuracy: 75.00\n",
            "[590/1000]. Loss: 0.6436. Accuracy: 75.00\n",
            "[595/1000]. Loss: 0.6385. Accuracy: 75.00\n",
            "[600/1000]. Loss: 0.6331. Accuracy: 75.00\n",
            "[605/1000]. Loss: 0.6274. Accuracy: 75.00\n",
            "[610/1000]. Loss: 0.6213. Accuracy: 75.00\n",
            "[615/1000]. Loss: 0.6148. Accuracy: 75.00\n",
            "[620/1000]. Loss: 0.6081. Accuracy: 75.00\n",
            "[625/1000]. Loss: 0.6011. Accuracy: 75.00\n",
            "[630/1000]. Loss: 0.5939. Accuracy: 75.00\n",
            "[635/1000]. Loss: 0.5863. Accuracy: 75.00\n",
            "[640/1000]. Loss: 0.5785. Accuracy: 75.00\n",
            "[645/1000]. Loss: 0.5705. Accuracy: 75.00\n",
            "[650/1000]. Loss: 0.5621. Accuracy: 75.00\n",
            "[655/1000]. Loss: 0.5534. Accuracy: 75.00\n",
            "[660/1000]. Loss: 0.5443. Accuracy: 75.00\n",
            "[665/1000]. Loss: 0.5347. Accuracy: 75.00\n",
            "[670/1000]. Loss: 0.5246. Accuracy: 75.00\n",
            "[675/1000]. Loss: 0.5139. Accuracy: 75.00\n",
            "[680/1000]. Loss: 0.5025. Accuracy: 75.00\n",
            "[685/1000]. Loss: 0.4904. Accuracy: 75.00\n",
            "[690/1000]. Loss: 0.4774. Accuracy: 75.00\n",
            "[695/1000]. Loss: 0.4635. Accuracy: 75.00\n",
            "[700/1000]. Loss: 0.4487. Accuracy: 75.00\n",
            "[705/1000]. Loss: 0.4330. Accuracy: 100.00\n",
            "[710/1000]. Loss: 0.4163. Accuracy: 100.00\n",
            "[715/1000]. Loss: 0.3988. Accuracy: 100.00\n",
            "[720/1000]. Loss: 0.3806. Accuracy: 100.00\n",
            "[725/1000]. Loss: 0.3619. Accuracy: 100.00\n",
            "[730/1000]. Loss: 0.3427. Accuracy: 100.00\n",
            "[735/1000]. Loss: 0.3235. Accuracy: 100.00\n",
            "[740/1000]. Loss: 0.3042. Accuracy: 100.00\n",
            "[745/1000]. Loss: 0.2853. Accuracy: 100.00\n",
            "[750/1000]. Loss: 0.2668. Accuracy: 100.00\n",
            "[755/1000]. Loss: 0.2491. Accuracy: 100.00\n",
            "[760/1000]. Loss: 0.2321. Accuracy: 100.00\n",
            "[765/1000]. Loss: 0.2161. Accuracy: 100.00\n",
            "[770/1000]. Loss: 0.2011. Accuracy: 100.00\n",
            "[775/1000]. Loss: 0.1871. Accuracy: 100.00\n",
            "[780/1000]. Loss: 0.1742. Accuracy: 100.00\n",
            "[785/1000]. Loss: 0.1623. Accuracy: 100.00\n",
            "[790/1000]. Loss: 0.1514. Accuracy: 100.00\n",
            "[795/1000]. Loss: 0.1415. Accuracy: 100.00\n",
            "[800/1000]. Loss: 0.1324. Accuracy: 100.00\n",
            "[805/1000]. Loss: 0.1241. Accuracy: 100.00\n",
            "[810/1000]. Loss: 0.1165. Accuracy: 100.00\n",
            "[815/1000]. Loss: 0.1097. Accuracy: 100.00\n",
            "[820/1000]. Loss: 0.1034. Accuracy: 100.00\n",
            "[825/1000]. Loss: 0.0977. Accuracy: 100.00\n",
            "[830/1000]. Loss: 0.0924. Accuracy: 100.00\n",
            "[835/1000]. Loss: 0.0876. Accuracy: 100.00\n",
            "[840/1000]. Loss: 0.0832. Accuracy: 100.00\n",
            "[845/1000]. Loss: 0.0792. Accuracy: 100.00\n",
            "[850/1000]. Loss: 0.0755. Accuracy: 100.00\n",
            "[855/1000]. Loss: 0.0721. Accuracy: 100.00\n",
            "[860/1000]. Loss: 0.0689. Accuracy: 100.00\n",
            "[865/1000]. Loss: 0.0660. Accuracy: 100.00\n",
            "[870/1000]. Loss: 0.0632. Accuracy: 100.00\n",
            "[875/1000]. Loss: 0.0607. Accuracy: 100.00\n",
            "[880/1000]. Loss: 0.0583. Accuracy: 100.00\n",
            "[885/1000]. Loss: 0.0561. Accuracy: 100.00\n",
            "[890/1000]. Loss: 0.0541. Accuracy: 100.00\n",
            "[895/1000]. Loss: 0.0522. Accuracy: 100.00\n",
            "[900/1000]. Loss: 0.0504. Accuracy: 100.00\n",
            "[905/1000]. Loss: 0.0487. Accuracy: 100.00\n",
            "[910/1000]. Loss: 0.0471. Accuracy: 100.00\n",
            "[915/1000]. Loss: 0.0456. Accuracy: 100.00\n",
            "[920/1000]. Loss: 0.0441. Accuracy: 100.00\n",
            "[925/1000]. Loss: 0.0428. Accuracy: 100.00\n",
            "[930/1000]. Loss: 0.0415. Accuracy: 100.00\n",
            "[935/1000]. Loss: 0.0403. Accuracy: 100.00\n",
            "[940/1000]. Loss: 0.0392. Accuracy: 100.00\n",
            "[945/1000]. Loss: 0.0381. Accuracy: 100.00\n",
            "[950/1000]. Loss: 0.0371. Accuracy: 100.00\n",
            "[955/1000]. Loss: 0.0361. Accuracy: 100.00\n",
            "[960/1000]. Loss: 0.0352. Accuracy: 100.00\n",
            "[965/1000]. Loss: 0.0343. Accuracy: 100.00\n",
            "[970/1000]. Loss: 0.0335. Accuracy: 100.00\n",
            "[975/1000]. Loss: 0.0327. Accuracy: 100.00\n",
            "[980/1000]. Loss: 0.0319. Accuracy: 100.00\n",
            "[985/1000]. Loss: 0.0312. Accuracy: 100.00\n",
            "[990/1000]. Loss: 0.0304. Accuracy: 100.00\n",
            "[995/1000]. Loss: 0.0298. Accuracy: 100.00\n",
            "[1000/1000]. Loss: 0.0291. Accuracy: 100.00\n",
            "Final Accuracy: 100.00\n"
          ]
        }
      ],
      "source": [
        "model = BinaryNetwork( hidden_dims= [5])\n",
        "model.train()\n",
        "print(model)\n",
        "operator = \"XOR\" \n",
        "inputs, labels = generate_data(operator = operator)\n",
        "n_iters = 1000\n",
        "learning_rate = 0.1\n",
        "bce_loss_fn = nn.BCELoss()\n",
        "optim = torch.optim.SGD(params = model.parameters(), lr = learning_rate, momentum=0.9)\n",
        "threshold = 0.5\n",
        "for i in range(1, n_iters + 1):\n",
        "  outputs = model(inputs)\n",
        "  outputs = outputs.reshape(-1)\n",
        "  \n",
        "  loss = bce_loss_fn(outputs, labels)\n",
        "  predictions = (outputs > threshold).long()\n",
        "  \n",
        "  accuracy = (predictions == labels).float().mean() * 100.\n",
        "\n",
        "  optim.zero_grad()\n",
        "  loss.backward()\n",
        "  optim.step()\n",
        "\n",
        "  loss = loss.item() # Convert to Python Scalar\n",
        "  accuracy = accuracy.item() # Convert to Python Scalar\n",
        "\n",
        "  if i % 5 == 0:\n",
        "    print(\"[%d/%d]. Loss: %0.4f. Accuracy: %0.2f\" % (i, n_iters, loss, accuracy))\n",
        "\n",
        "model.eval()\n",
        "outputs = model(inputs)\n",
        "outputs = outputs.reshape(-1)\n",
        "predictions = (outputs > threshold).long()  \n",
        "accuracy = (predictions == labels).float().mean() * 100.\n",
        "accuracy = accuracy.item()\n",
        "print(\"Final Accuracy: %0.2f\" % (accuracy))\n",
        "\n",
        "torch.save(model.state_dict(), \"%s_Network.pth\" % operator)\n",
        "  # model.load_state_dict(torch.load(\"%s_Network.pth\" % operator)) # Load model in the next time you use"
      ]
    },
    {
      "cell_type": "markdown",
      "source": [
        "**Question 1b**: **AND Operator**"
      ],
      "metadata": {
        "id": "TSn4WPTrqdCv"
      }
    },
    {
      "cell_type": "code",
      "source": [
        "model = BinaryNetwork( hidden_dims= [6,6,6])\n",
        "model.train()\n",
        "print(model)\n",
        "operator = \"AND\" \n",
        "inputs, labels = generate_data(operator = operator)\n",
        "n_iters = 1500\n",
        "learning_rate = 0.1\n",
        "bce_loss_fn = nn.BCELoss()\n",
        "optim = torch.optim.SGD(params = model.parameters(), lr = learning_rate, momentum=0.9)\n",
        "threshold = 0.5\n",
        "losses = []\n",
        "for i in range(1, n_iters + 1):\n",
        "  outputs = model(inputs)\n",
        "  outputs = outputs.reshape(-1)\n",
        "  \n",
        "  loss = bce_loss_fn(outputs, labels)\n",
        "  losses.append(loss)\n",
        "  predictions = (outputs > threshold).long()\n",
        "  \n",
        "  accuracy = (predictions == labels).float().mean() * 100.\n",
        "\n",
        "  optim.zero_grad()\n",
        "  loss.backward()\n",
        "  optim.step()\n",
        "\n",
        "  loss = loss.item() # Convert to Python Scalar\n",
        "  accuracy = accuracy.item() # Convert to Python Scalar\n",
        "\n",
        "  if i % 5 == 0:\n",
        "    print(\"[%d/%d]. Loss: %0.4f. Accuracy: %0.2f\" % (i, n_iters, loss, accuracy))\n",
        "\n",
        "model.eval()\n",
        "outputs = model(inputs)\n",
        "outputs = outputs.reshape(-1)\n",
        "predictions = (outputs > threshold).long()  \n",
        "accuracy = (predictions == labels).float().mean() * 100.\n",
        "accuracy = accuracy.item()\n",
        "#losses = losses.detach().numpy()\n",
        "\n",
        "with torch.no_grad():\n",
        "  plt.title(operator+\" Training Loss\")\n",
        "  plt.xlabel(\"Iterations\")\n",
        "  plt.ylabel(\"Loss\")\n",
        "  plt.plot(losses)\n",
        "print(\"Final Accuracy: %0.2f\" % (accuracy))\n",
        "torch.save(model.state_dict(), \"%s_Network.pth\" % operator)\n",
        "  # model.load_state_dict(torch.load(\"%s_Network.pth\" % operator)) # Load model in the next time you use"
      ],
      "metadata": {
        "colab": {
          "base_uri": "https://localhost:8080/",
          "height": 1000
        },
        "id": "ccSdYEFoqhI_",
        "outputId": "0dd5103e-8c47-4398-fb79-ca0f748002a9"
      },
      "execution_count": null,
      "outputs": [
        {
          "output_type": "stream",
          "name": "stdout",
          "text": [
            "BinaryNetwork(\n",
            "  (layers): ModuleList(\n",
            "    (0): Linear(in_features=2, out_features=6, bias=True)\n",
            "    (1): Sigmoid()\n",
            "    (2): Linear(in_features=6, out_features=6, bias=True)\n",
            "    (3): Sigmoid()\n",
            "    (4): Linear(in_features=6, out_features=6, bias=True)\n",
            "    (5): Sigmoid()\n",
            "    (6): Linear(in_features=6, out_features=1, bias=True)\n",
            "    (7): Sigmoid()\n",
            "  )\n",
            ")\n",
            "[5/1500]. Loss: 0.5796. Accuracy: 75.00\n",
            "[10/1500]. Loss: 0.5655. Accuracy: 75.00\n",
            "[15/1500]. Loss: 0.5755. Accuracy: 75.00\n",
            "[20/1500]. Loss: 0.5660. Accuracy: 75.00\n",
            "[25/1500]. Loss: 0.5630. Accuracy: 75.00\n",
            "[30/1500]. Loss: 0.5652. Accuracy: 75.00\n",
            "[35/1500]. Loss: 0.5630. Accuracy: 75.00\n",
            "[40/1500]. Loss: 0.5627. Accuracy: 75.00\n",
            "[45/1500]. Loss: 0.5630. Accuracy: 75.00\n",
            "[50/1500]. Loss: 0.5626. Accuracy: 75.00\n",
            "[55/1500]. Loss: 0.5625. Accuracy: 75.00\n",
            "[60/1500]. Loss: 0.5625. Accuracy: 75.00\n",
            "[65/1500]. Loss: 0.5624. Accuracy: 75.00\n",
            "[70/1500]. Loss: 0.5624. Accuracy: 75.00\n",
            "[75/1500]. Loss: 0.5624. Accuracy: 75.00\n",
            "[80/1500]. Loss: 0.5624. Accuracy: 75.00\n",
            "[85/1500]. Loss: 0.5624. Accuracy: 75.00\n",
            "[90/1500]. Loss: 0.5624. Accuracy: 75.00\n",
            "[95/1500]. Loss: 0.5623. Accuracy: 75.00\n",
            "[100/1500]. Loss: 0.5623. Accuracy: 75.00\n",
            "[105/1500]. Loss: 0.5623. Accuracy: 75.00\n",
            "[110/1500]. Loss: 0.5623. Accuracy: 75.00\n",
            "[115/1500]. Loss: 0.5623. Accuracy: 75.00\n",
            "[120/1500]. Loss: 0.5623. Accuracy: 75.00\n",
            "[125/1500]. Loss: 0.5623. Accuracy: 75.00\n",
            "[130/1500]. Loss: 0.5623. Accuracy: 75.00\n",
            "[135/1500]. Loss: 0.5622. Accuracy: 75.00\n",
            "[140/1500]. Loss: 0.5622. Accuracy: 75.00\n",
            "[145/1500]. Loss: 0.5622. Accuracy: 75.00\n",
            "[150/1500]. Loss: 0.5622. Accuracy: 75.00\n",
            "[155/1500]. Loss: 0.5622. Accuracy: 75.00\n",
            "[160/1500]. Loss: 0.5622. Accuracy: 75.00\n",
            "[165/1500]. Loss: 0.5622. Accuracy: 75.00\n",
            "[170/1500]. Loss: 0.5622. Accuracy: 75.00\n",
            "[175/1500]. Loss: 0.5622. Accuracy: 75.00\n",
            "[180/1500]. Loss: 0.5621. Accuracy: 75.00\n",
            "[185/1500]. Loss: 0.5621. Accuracy: 75.00\n",
            "[190/1500]. Loss: 0.5621. Accuracy: 75.00\n",
            "[195/1500]. Loss: 0.5621. Accuracy: 75.00\n",
            "[200/1500]. Loss: 0.5621. Accuracy: 75.00\n",
            "[205/1500]. Loss: 0.5621. Accuracy: 75.00\n",
            "[210/1500]. Loss: 0.5621. Accuracy: 75.00\n",
            "[215/1500]. Loss: 0.5621. Accuracy: 75.00\n",
            "[220/1500]. Loss: 0.5620. Accuracy: 75.00\n",
            "[225/1500]. Loss: 0.5620. Accuracy: 75.00\n",
            "[230/1500]. Loss: 0.5620. Accuracy: 75.00\n",
            "[235/1500]. Loss: 0.5620. Accuracy: 75.00\n",
            "[240/1500]. Loss: 0.5620. Accuracy: 75.00\n",
            "[245/1500]. Loss: 0.5620. Accuracy: 75.00\n",
            "[250/1500]. Loss: 0.5620. Accuracy: 75.00\n",
            "[255/1500]. Loss: 0.5619. Accuracy: 75.00\n",
            "[260/1500]. Loss: 0.5619. Accuracy: 75.00\n",
            "[265/1500]. Loss: 0.5619. Accuracy: 75.00\n",
            "[270/1500]. Loss: 0.5619. Accuracy: 75.00\n",
            "[275/1500]. Loss: 0.5619. Accuracy: 75.00\n",
            "[280/1500]. Loss: 0.5619. Accuracy: 75.00\n",
            "[285/1500]. Loss: 0.5619. Accuracy: 75.00\n",
            "[290/1500]. Loss: 0.5618. Accuracy: 75.00\n",
            "[295/1500]. Loss: 0.5618. Accuracy: 75.00\n",
            "[300/1500]. Loss: 0.5618. Accuracy: 75.00\n",
            "[305/1500]. Loss: 0.5618. Accuracy: 75.00\n",
            "[310/1500]. Loss: 0.5618. Accuracy: 75.00\n",
            "[315/1500]. Loss: 0.5617. Accuracy: 75.00\n",
            "[320/1500]. Loss: 0.5617. Accuracy: 75.00\n",
            "[325/1500]. Loss: 0.5617. Accuracy: 75.00\n",
            "[330/1500]. Loss: 0.5617. Accuracy: 75.00\n",
            "[335/1500]. Loss: 0.5616. Accuracy: 75.00\n",
            "[340/1500]. Loss: 0.5616. Accuracy: 75.00\n",
            "[345/1500]. Loss: 0.5616. Accuracy: 75.00\n",
            "[350/1500]. Loss: 0.5616. Accuracy: 75.00\n",
            "[355/1500]. Loss: 0.5615. Accuracy: 75.00\n",
            "[360/1500]. Loss: 0.5615. Accuracy: 75.00\n",
            "[365/1500]. Loss: 0.5615. Accuracy: 75.00\n",
            "[370/1500]. Loss: 0.5615. Accuracy: 75.00\n",
            "[375/1500]. Loss: 0.5614. Accuracy: 75.00\n",
            "[380/1500]. Loss: 0.5614. Accuracy: 75.00\n",
            "[385/1500]. Loss: 0.5614. Accuracy: 75.00\n",
            "[390/1500]. Loss: 0.5613. Accuracy: 75.00\n",
            "[395/1500]. Loss: 0.5613. Accuracy: 75.00\n",
            "[400/1500]. Loss: 0.5612. Accuracy: 75.00\n",
            "[405/1500]. Loss: 0.5612. Accuracy: 75.00\n",
            "[410/1500]. Loss: 0.5612. Accuracy: 75.00\n",
            "[415/1500]. Loss: 0.5611. Accuracy: 75.00\n",
            "[420/1500]. Loss: 0.5611. Accuracy: 75.00\n",
            "[425/1500]. Loss: 0.5610. Accuracy: 75.00\n",
            "[430/1500]. Loss: 0.5610. Accuracy: 75.00\n",
            "[435/1500]. Loss: 0.5609. Accuracy: 75.00\n",
            "[440/1500]. Loss: 0.5609. Accuracy: 75.00\n",
            "[445/1500]. Loss: 0.5608. Accuracy: 75.00\n",
            "[450/1500]. Loss: 0.5607. Accuracy: 75.00\n",
            "[455/1500]. Loss: 0.5607. Accuracy: 75.00\n",
            "[460/1500]. Loss: 0.5606. Accuracy: 75.00\n",
            "[465/1500]. Loss: 0.5605. Accuracy: 75.00\n",
            "[470/1500]. Loss: 0.5604. Accuracy: 75.00\n",
            "[475/1500]. Loss: 0.5604. Accuracy: 75.00\n",
            "[480/1500]. Loss: 0.5603. Accuracy: 75.00\n",
            "[485/1500]. Loss: 0.5602. Accuracy: 75.00\n",
            "[490/1500]. Loss: 0.5601. Accuracy: 75.00\n",
            "[495/1500]. Loss: 0.5600. Accuracy: 75.00\n",
            "[500/1500]. Loss: 0.5599. Accuracy: 75.00\n",
            "[505/1500]. Loss: 0.5598. Accuracy: 75.00\n",
            "[510/1500]. Loss: 0.5596. Accuracy: 75.00\n",
            "[515/1500]. Loss: 0.5595. Accuracy: 75.00\n",
            "[520/1500]. Loss: 0.5594. Accuracy: 75.00\n",
            "[525/1500]. Loss: 0.5592. Accuracy: 75.00\n",
            "[530/1500]. Loss: 0.5591. Accuracy: 75.00\n",
            "[535/1500]. Loss: 0.5589. Accuracy: 75.00\n",
            "[540/1500]. Loss: 0.5587. Accuracy: 75.00\n",
            "[545/1500]. Loss: 0.5585. Accuracy: 75.00\n",
            "[550/1500]. Loss: 0.5583. Accuracy: 75.00\n",
            "[555/1500]. Loss: 0.5581. Accuracy: 75.00\n",
            "[560/1500]. Loss: 0.5578. Accuracy: 75.00\n",
            "[565/1500]. Loss: 0.5576. Accuracy: 75.00\n",
            "[570/1500]. Loss: 0.5573. Accuracy: 75.00\n",
            "[575/1500]. Loss: 0.5570. Accuracy: 75.00\n",
            "[580/1500]. Loss: 0.5567. Accuracy: 75.00\n",
            "[585/1500]. Loss: 0.5563. Accuracy: 75.00\n",
            "[590/1500]. Loss: 0.5559. Accuracy: 75.00\n",
            "[595/1500]. Loss: 0.5555. Accuracy: 75.00\n",
            "[600/1500]. Loss: 0.5550. Accuracy: 75.00\n",
            "[605/1500]. Loss: 0.5545. Accuracy: 75.00\n",
            "[610/1500]. Loss: 0.5539. Accuracy: 75.00\n",
            "[615/1500]. Loss: 0.5533. Accuracy: 75.00\n",
            "[620/1500]. Loss: 0.5527. Accuracy: 75.00\n",
            "[625/1500]. Loss: 0.5519. Accuracy: 75.00\n",
            "[630/1500]. Loss: 0.5511. Accuracy: 75.00\n",
            "[635/1500]. Loss: 0.5502. Accuracy: 75.00\n",
            "[640/1500]. Loss: 0.5492. Accuracy: 75.00\n",
            "[645/1500]. Loss: 0.5480. Accuracy: 75.00\n",
            "[650/1500]. Loss: 0.5468. Accuracy: 75.00\n",
            "[655/1500]. Loss: 0.5453. Accuracy: 75.00\n",
            "[660/1500]. Loss: 0.5437. Accuracy: 75.00\n",
            "[665/1500]. Loss: 0.5419. Accuracy: 75.00\n",
            "[670/1500]. Loss: 0.5398. Accuracy: 75.00\n",
            "[675/1500]. Loss: 0.5375. Accuracy: 75.00\n",
            "[680/1500]. Loss: 0.5348. Accuracy: 75.00\n",
            "[685/1500]. Loss: 0.5316. Accuracy: 75.00\n",
            "[690/1500]. Loss: 0.5280. Accuracy: 75.00\n",
            "[695/1500]. Loss: 0.5239. Accuracy: 75.00\n",
            "[700/1500]. Loss: 0.5190. Accuracy: 75.00\n",
            "[705/1500]. Loss: 0.5133. Accuracy: 75.00\n",
            "[710/1500]. Loss: 0.5066. Accuracy: 75.00\n",
            "[715/1500]. Loss: 0.4986. Accuracy: 75.00\n",
            "[720/1500]. Loss: 0.4892. Accuracy: 75.00\n",
            "[725/1500]. Loss: 0.4781. Accuracy: 75.00\n",
            "[730/1500]. Loss: 0.4648. Accuracy: 75.00\n",
            "[735/1500]. Loss: 0.4491. Accuracy: 75.00\n",
            "[740/1500]. Loss: 0.4306. Accuracy: 75.00\n",
            "[745/1500]. Loss: 0.4088. Accuracy: 75.00\n",
            "[750/1500]. Loss: 0.3835. Accuracy: 75.00\n",
            "[755/1500]. Loss: 0.3547. Accuracy: 75.00\n",
            "[760/1500]. Loss: 0.3223. Accuracy: 75.00\n",
            "[765/1500]. Loss: 0.2869. Accuracy: 100.00\n",
            "[770/1500]. Loss: 0.2495. Accuracy: 100.00\n",
            "[775/1500]. Loss: 0.2115. Accuracy: 100.00\n",
            "[780/1500]. Loss: 0.1751. Accuracy: 100.00\n",
            "[785/1500]. Loss: 0.1420. Accuracy: 100.00\n",
            "[790/1500]. Loss: 0.1137. Accuracy: 100.00\n",
            "[795/1500]. Loss: 0.0906. Accuracy: 100.00\n",
            "[800/1500]. Loss: 0.0726. Accuracy: 100.00\n",
            "[805/1500]. Loss: 0.0588. Accuracy: 100.00\n",
            "[810/1500]. Loss: 0.0483. Accuracy: 100.00\n",
            "[815/1500]. Loss: 0.0405. Accuracy: 100.00\n",
            "[820/1500]. Loss: 0.0344. Accuracy: 100.00\n",
            "[825/1500]. Loss: 0.0298. Accuracy: 100.00\n",
            "[830/1500]. Loss: 0.0262. Accuracy: 100.00\n",
            "[835/1500]. Loss: 0.0233. Accuracy: 100.00\n",
            "[840/1500]. Loss: 0.0209. Accuracy: 100.00\n",
            "[845/1500]. Loss: 0.0190. Accuracy: 100.00\n",
            "[850/1500]. Loss: 0.0174. Accuracy: 100.00\n",
            "[855/1500]. Loss: 0.0160. Accuracy: 100.00\n",
            "[860/1500]. Loss: 0.0149. Accuracy: 100.00\n",
            "[865/1500]. Loss: 0.0139. Accuracy: 100.00\n",
            "[870/1500]. Loss: 0.0130. Accuracy: 100.00\n",
            "[875/1500]. Loss: 0.0122. Accuracy: 100.00\n",
            "[880/1500]. Loss: 0.0115. Accuracy: 100.00\n",
            "[885/1500]. Loss: 0.0109. Accuracy: 100.00\n",
            "[890/1500]. Loss: 0.0103. Accuracy: 100.00\n",
            "[895/1500]. Loss: 0.0098. Accuracy: 100.00\n",
            "[900/1500]. Loss: 0.0093. Accuracy: 100.00\n",
            "[905/1500]. Loss: 0.0089. Accuracy: 100.00\n",
            "[910/1500]. Loss: 0.0085. Accuracy: 100.00\n",
            "[915/1500]. Loss: 0.0082. Accuracy: 100.00\n",
            "[920/1500]. Loss: 0.0079. Accuracy: 100.00\n",
            "[925/1500]. Loss: 0.0076. Accuracy: 100.00\n",
            "[930/1500]. Loss: 0.0073. Accuracy: 100.00\n",
            "[935/1500]. Loss: 0.0070. Accuracy: 100.00\n",
            "[940/1500]. Loss: 0.0068. Accuracy: 100.00\n",
            "[945/1500]. Loss: 0.0065. Accuracy: 100.00\n",
            "[950/1500]. Loss: 0.0063. Accuracy: 100.00\n",
            "[955/1500]. Loss: 0.0061. Accuracy: 100.00\n",
            "[960/1500]. Loss: 0.0059. Accuracy: 100.00\n",
            "[965/1500]. Loss: 0.0058. Accuracy: 100.00\n",
            "[970/1500]. Loss: 0.0056. Accuracy: 100.00\n",
            "[975/1500]. Loss: 0.0054. Accuracy: 100.00\n",
            "[980/1500]. Loss: 0.0053. Accuracy: 100.00\n",
            "[985/1500]. Loss: 0.0051. Accuracy: 100.00\n",
            "[990/1500]. Loss: 0.0050. Accuracy: 100.00\n",
            "[995/1500]. Loss: 0.0049. Accuracy: 100.00\n",
            "[1000/1500]. Loss: 0.0047. Accuracy: 100.00\n",
            "[1005/1500]. Loss: 0.0046. Accuracy: 100.00\n",
            "[1010/1500]. Loss: 0.0045. Accuracy: 100.00\n",
            "[1015/1500]. Loss: 0.0044. Accuracy: 100.00\n",
            "[1020/1500]. Loss: 0.0043. Accuracy: 100.00\n",
            "[1025/1500]. Loss: 0.0042. Accuracy: 100.00\n",
            "[1030/1500]. Loss: 0.0041. Accuracy: 100.00\n",
            "[1035/1500]. Loss: 0.0040. Accuracy: 100.00\n",
            "[1040/1500]. Loss: 0.0039. Accuracy: 100.00\n",
            "[1045/1500]. Loss: 0.0039. Accuracy: 100.00\n",
            "[1050/1500]. Loss: 0.0038. Accuracy: 100.00\n",
            "[1055/1500]. Loss: 0.0037. Accuracy: 100.00\n",
            "[1060/1500]. Loss: 0.0036. Accuracy: 100.00\n",
            "[1065/1500]. Loss: 0.0036. Accuracy: 100.00\n",
            "[1070/1500]. Loss: 0.0035. Accuracy: 100.00\n",
            "[1075/1500]. Loss: 0.0034. Accuracy: 100.00\n",
            "[1080/1500]. Loss: 0.0034. Accuracy: 100.00\n",
            "[1085/1500]. Loss: 0.0033. Accuracy: 100.00\n",
            "[1090/1500]. Loss: 0.0033. Accuracy: 100.00\n",
            "[1095/1500]. Loss: 0.0032. Accuracy: 100.00\n",
            "[1100/1500]. Loss: 0.0031. Accuracy: 100.00\n",
            "[1105/1500]. Loss: 0.0031. Accuracy: 100.00\n",
            "[1110/1500]. Loss: 0.0030. Accuracy: 100.00\n",
            "[1115/1500]. Loss: 0.0030. Accuracy: 100.00\n",
            "[1120/1500]. Loss: 0.0029. Accuracy: 100.00\n",
            "[1125/1500]. Loss: 0.0029. Accuracy: 100.00\n",
            "[1130/1500]. Loss: 0.0028. Accuracy: 100.00\n",
            "[1135/1500]. Loss: 0.0028. Accuracy: 100.00\n",
            "[1140/1500]. Loss: 0.0028. Accuracy: 100.00\n",
            "[1145/1500]. Loss: 0.0027. Accuracy: 100.00\n",
            "[1150/1500]. Loss: 0.0027. Accuracy: 100.00\n",
            "[1155/1500]. Loss: 0.0026. Accuracy: 100.00\n",
            "[1160/1500]. Loss: 0.0026. Accuracy: 100.00\n",
            "[1165/1500]. Loss: 0.0026. Accuracy: 100.00\n",
            "[1170/1500]. Loss: 0.0025. Accuracy: 100.00\n",
            "[1175/1500]. Loss: 0.0025. Accuracy: 100.00\n",
            "[1180/1500]. Loss: 0.0025. Accuracy: 100.00\n",
            "[1185/1500]. Loss: 0.0024. Accuracy: 100.00\n",
            "[1190/1500]. Loss: 0.0024. Accuracy: 100.00\n",
            "[1195/1500]. Loss: 0.0024. Accuracy: 100.00\n",
            "[1200/1500]. Loss: 0.0023. Accuracy: 100.00\n",
            "[1205/1500]. Loss: 0.0023. Accuracy: 100.00\n",
            "[1210/1500]. Loss: 0.0023. Accuracy: 100.00\n",
            "[1215/1500]. Loss: 0.0022. Accuracy: 100.00\n",
            "[1220/1500]. Loss: 0.0022. Accuracy: 100.00\n",
            "[1225/1500]. Loss: 0.0022. Accuracy: 100.00\n",
            "[1230/1500]. Loss: 0.0022. Accuracy: 100.00\n",
            "[1235/1500]. Loss: 0.0021. Accuracy: 100.00\n",
            "[1240/1500]. Loss: 0.0021. Accuracy: 100.00\n",
            "[1245/1500]. Loss: 0.0021. Accuracy: 100.00\n",
            "[1250/1500]. Loss: 0.0021. Accuracy: 100.00\n",
            "[1255/1500]. Loss: 0.0020. Accuracy: 100.00\n",
            "[1260/1500]. Loss: 0.0020. Accuracy: 100.00\n",
            "[1265/1500]. Loss: 0.0020. Accuracy: 100.00\n",
            "[1270/1500]. Loss: 0.0020. Accuracy: 100.00\n",
            "[1275/1500]. Loss: 0.0020. Accuracy: 100.00\n",
            "[1280/1500]. Loss: 0.0019. Accuracy: 100.00\n",
            "[1285/1500]. Loss: 0.0019. Accuracy: 100.00\n",
            "[1290/1500]. Loss: 0.0019. Accuracy: 100.00\n",
            "[1295/1500]. Loss: 0.0019. Accuracy: 100.00\n",
            "[1300/1500]. Loss: 0.0018. Accuracy: 100.00\n",
            "[1305/1500]. Loss: 0.0018. Accuracy: 100.00\n",
            "[1310/1500]. Loss: 0.0018. Accuracy: 100.00\n",
            "[1315/1500]. Loss: 0.0018. Accuracy: 100.00\n",
            "[1320/1500]. Loss: 0.0018. Accuracy: 100.00\n",
            "[1325/1500]. Loss: 0.0018. Accuracy: 100.00\n",
            "[1330/1500]. Loss: 0.0017. Accuracy: 100.00\n",
            "[1335/1500]. Loss: 0.0017. Accuracy: 100.00\n",
            "[1340/1500]. Loss: 0.0017. Accuracy: 100.00\n",
            "[1345/1500]. Loss: 0.0017. Accuracy: 100.00\n",
            "[1350/1500]. Loss: 0.0017. Accuracy: 100.00\n",
            "[1355/1500]. Loss: 0.0017. Accuracy: 100.00\n",
            "[1360/1500]. Loss: 0.0016. Accuracy: 100.00\n",
            "[1365/1500]. Loss: 0.0016. Accuracy: 100.00\n",
            "[1370/1500]. Loss: 0.0016. Accuracy: 100.00\n",
            "[1375/1500]. Loss: 0.0016. Accuracy: 100.00\n",
            "[1380/1500]. Loss: 0.0016. Accuracy: 100.00\n",
            "[1385/1500]. Loss: 0.0016. Accuracy: 100.00\n",
            "[1390/1500]. Loss: 0.0016. Accuracy: 100.00\n",
            "[1395/1500]. Loss: 0.0015. Accuracy: 100.00\n",
            "[1400/1500]. Loss: 0.0015. Accuracy: 100.00\n",
            "[1405/1500]. Loss: 0.0015. Accuracy: 100.00\n",
            "[1410/1500]. Loss: 0.0015. Accuracy: 100.00\n",
            "[1415/1500]. Loss: 0.0015. Accuracy: 100.00\n",
            "[1420/1500]. Loss: 0.0015. Accuracy: 100.00\n",
            "[1425/1500]. Loss: 0.0015. Accuracy: 100.00\n",
            "[1430/1500]. Loss: 0.0015. Accuracy: 100.00\n",
            "[1435/1500]. Loss: 0.0014. Accuracy: 100.00\n",
            "[1440/1500]. Loss: 0.0014. Accuracy: 100.00\n",
            "[1445/1500]. Loss: 0.0014. Accuracy: 100.00\n",
            "[1450/1500]. Loss: 0.0014. Accuracy: 100.00\n",
            "[1455/1500]. Loss: 0.0014. Accuracy: 100.00\n",
            "[1460/1500]. Loss: 0.0014. Accuracy: 100.00\n",
            "[1465/1500]. Loss: 0.0014. Accuracy: 100.00\n",
            "[1470/1500]. Loss: 0.0014. Accuracy: 100.00\n",
            "[1475/1500]. Loss: 0.0014. Accuracy: 100.00\n",
            "[1480/1500]. Loss: 0.0013. Accuracy: 100.00\n",
            "[1485/1500]. Loss: 0.0013. Accuracy: 100.00\n",
            "[1490/1500]. Loss: 0.0013. Accuracy: 100.00\n",
            "[1495/1500]. Loss: 0.0013. Accuracy: 100.00\n",
            "[1500/1500]. Loss: 0.0013. Accuracy: 100.00\n",
            "Final Accuracy: 100.00\n"
          ]
        },
        {
          "output_type": "display_data",
          "data": {
            "text/plain": [
              "<Figure size 640x480 with 1 Axes>"
            ],
            "image/png": "[encoded data removed]"
          },
          "metadata": {}
        }
      ]
    },
    {
      "cell_type": "markdown",
      "source": [
        "**Question 1c: OR Operator**"
      ],
      "metadata": {
        "id": "FQw_5ZjOv06B"
      }
    },
    {
      "cell_type": "code",
      "source": [
        "model = BinaryNetwork( hidden_dims= [4,4])\n",
        "model.train()\n",
        "print(model)\n",
        "operator = \"OR\" \n",
        "inputs, labels = generate_data(operator = operator)\n",
        "n_iters = 800\n",
        "learning_rate = 0.1\n",
        "bce_loss_fn = nn.BCELoss()\n",
        "optim = torch.optim.SGD(params = model.parameters(), lr = learning_rate, momentum=0.9)\n",
        "threshold = 0.5\n",
        "losses = []\n",
        "for i in range(1, n_iters + 1):\n",
        "  outputs = model(inputs)\n",
        "  outputs = outputs.reshape(-1)\n",
        "  \n",
        "  loss = bce_loss_fn(outputs, labels)\n",
        "  losses.append(loss)\n",
        "  predictions = (outputs > threshold).long()\n",
        "  \n",
        "  accuracy = (predictions == labels).float().mean() * 100.\n",
        "\n",
        "  optim.zero_grad()\n",
        "  loss.backward()\n",
        "  optim.step()\n",
        "\n",
        "  loss = loss.item() # Convert to Python Scalar\n",
        "  accuracy = accuracy.item() # Convert to Python Scalar\n",
        "\n",
        "  if i % 5 == 0:\n",
        "    print(\"[%d/%d]. Loss: %0.4f. Accuracy: %0.2f\" % (i, n_iters, loss, accuracy))\n",
        "\n",
        "model.eval()\n",
        "outputs = model(inputs)\n",
        "outputs = outputs.reshape(-1)\n",
        "predictions = (outputs > threshold).long()  \n",
        "accuracy = (predictions == labels).float().mean() * 100.\n",
        "accuracy = accuracy.item()\n",
        "#losses = losses.detach().numpy()\n",
        "with torch.no_grad():\n",
        "  plt.title(operator+\" Training Loss\")\n",
        "  plt.xlabel(\"Iterations\")\n",
        "  plt.ylabel(\"Loss\")\n",
        "  plt.plot(losses)\n",
        "print(\"Final Accuracy: %0.2f\" % (accuracy))\n",
        "\n",
        "torch.save(model.state_dict(), \"%s_Network.pth\" % operator)\n",
        "  # model.load_state_dict(torch.load(\"%s_Network.pth\" % operator)) # Load model in the next time you use"
      ],
      "metadata": {
        "colab": {
          "base_uri": "https://localhost:8080/",
          "height": 1000
        },
        "id": "vtDEg_Uhv1mj",
        "outputId": "633a6729-4ae0-4cf1-e79f-0174e47ea832"
      },
      "execution_count": null,
      "outputs": [
        {
          "output_type": "stream",
          "name": "stdout",
          "text": [
            "BinaryNetwork(\n",
            "  (layers): ModuleList(\n",
            "    (0): Linear(in_features=2, out_features=4, bias=True)\n",
            "    (1): Sigmoid()\n",
            "    (2): Linear(in_features=4, out_features=4, bias=True)\n",
            "    (3): Sigmoid()\n",
            "    (4): Linear(in_features=4, out_features=1, bias=True)\n",
            "    (5): Sigmoid()\n",
            "  )\n",
            ")\n",
            "[5/800]. Loss: 0.5831. Accuracy: 75.00\n",
            "[10/800]. Loss: 0.5639. Accuracy: 75.00\n",
            "[15/800]. Loss: 0.5740. Accuracy: 75.00\n",
            "[20/800]. Loss: 0.5678. Accuracy: 75.00\n",
            "[25/800]. Loss: 0.5618. Accuracy: 75.00\n",
            "[30/800]. Loss: 0.5633. Accuracy: 75.00\n",
            "[35/800]. Loss: 0.5623. Accuracy: 75.00\n",
            "[40/800]. Loss: 0.5606. Accuracy: 75.00\n",
            "[45/800]. Loss: 0.5605. Accuracy: 75.00\n",
            "[50/800]. Loss: 0.5600. Accuracy: 75.00\n",
            "[55/800]. Loss: 0.5593. Accuracy: 75.00\n",
            "[60/800]. Loss: 0.5588. Accuracy: 75.00\n",
            "[65/800]. Loss: 0.5583. Accuracy: 75.00\n",
            "[70/800]. Loss: 0.5576. Accuracy: 75.00\n",
            "[75/800]. Loss: 0.5569. Accuracy: 75.00\n",
            "[80/800]. Loss: 0.5561. Accuracy: 75.00\n",
            "[85/800]. Loss: 0.5552. Accuracy: 75.00\n",
            "[90/800]. Loss: 0.5542. Accuracy: 75.00\n",
            "[95/800]. Loss: 0.5531. Accuracy: 75.00\n",
            "[100/800]. Loss: 0.5517. Accuracy: 75.00\n",
            "[105/800]. Loss: 0.5502. Accuracy: 75.00\n",
            "[110/800]. Loss: 0.5484. Accuracy: 75.00\n",
            "[115/800]. Loss: 0.5462. Accuracy: 75.00\n",
            "[120/800]. Loss: 0.5437. Accuracy: 75.00\n",
            "[125/800]. Loss: 0.5407. Accuracy: 75.00\n",
            "[130/800]. Loss: 0.5372. Accuracy: 75.00\n",
            "[135/800]. Loss: 0.5329. Accuracy: 75.00\n",
            "[140/800]. Loss: 0.5278. Accuracy: 75.00\n",
            "[145/800]. Loss: 0.5217. Accuracy: 75.00\n",
            "[150/800]. Loss: 0.5142. Accuracy: 75.00\n",
            "[155/800]. Loss: 0.5052. Accuracy: 75.00\n",
            "[160/800]. Loss: 0.4943. Accuracy: 75.00\n",
            "[165/800]. Loss: 0.4812. Accuracy: 75.00\n",
            "[170/800]. Loss: 0.4653. Accuracy: 75.00\n",
            "[175/800]. Loss: 0.4462. Accuracy: 75.00\n",
            "[180/800]. Loss: 0.4236. Accuracy: 75.00\n",
            "[185/800]. Loss: 0.3972. Accuracy: 75.00\n",
            "[190/800]. Loss: 0.3669. Accuracy: 75.00\n",
            "[195/800]. Loss: 0.3331. Accuracy: 75.00\n",
            "[200/800]. Loss: 0.2966. Accuracy: 100.00\n",
            "[205/800]. Loss: 0.2589. Accuracy: 100.00\n",
            "[210/800]. Loss: 0.2217. Accuracy: 100.00\n",
            "[215/800]. Loss: 0.1867. Accuracy: 100.00\n",
            "[220/800]. Loss: 0.1554. Accuracy: 100.00\n",
            "[225/800]. Loss: 0.1287. Accuracy: 100.00\n",
            "[230/800]. Loss: 0.1066. Accuracy: 100.00\n",
            "[235/800]. Loss: 0.0888. Accuracy: 100.00\n",
            "[240/800]. Loss: 0.0748. Accuracy: 100.00\n",
            "[245/800]. Loss: 0.0637. Accuracy: 100.00\n",
            "[250/800]. Loss: 0.0549. Accuracy: 100.00\n",
            "[255/800]. Loss: 0.0480. Accuracy: 100.00\n",
            "[260/800]. Loss: 0.0424. Accuracy: 100.00\n",
            "[265/800]. Loss: 0.0379. Accuracy: 100.00\n",
            "[270/800]. Loss: 0.0342. Accuracy: 100.00\n",
            "[275/800]. Loss: 0.0311. Accuracy: 100.00\n",
            "[280/800]. Loss: 0.0285. Accuracy: 100.00\n",
            "[285/800]. Loss: 0.0263. Accuracy: 100.00\n",
            "[290/800]. Loss: 0.0244. Accuracy: 100.00\n",
            "[295/800]. Loss: 0.0228. Accuracy: 100.00\n",
            "[300/800]. Loss: 0.0213. Accuracy: 100.00\n",
            "[305/800]. Loss: 0.0200. Accuracy: 100.00\n",
            "[310/800]. Loss: 0.0189. Accuracy: 100.00\n",
            "[315/800]. Loss: 0.0179. Accuracy: 100.00\n",
            "[320/800]. Loss: 0.0170. Accuracy: 100.00\n",
            "[325/800]. Loss: 0.0161. Accuracy: 100.00\n",
            "[330/800]. Loss: 0.0154. Accuracy: 100.00\n",
            "[335/800]. Loss: 0.0147. Accuracy: 100.00\n",
            "[340/800]. Loss: 0.0141. Accuracy: 100.00\n",
            "[345/800]. Loss: 0.0135. Accuracy: 100.00\n",
            "[350/800]. Loss: 0.0129. Accuracy: 100.00\n",
            "[355/800]. Loss: 0.0124. Accuracy: 100.00\n",
            "[360/800]. Loss: 0.0120. Accuracy: 100.00\n",
            "[365/800]. Loss: 0.0115. Accuracy: 100.00\n",
            "[370/800]. Loss: 0.0111. Accuracy: 100.00\n",
            "[375/800]. Loss: 0.0108. Accuracy: 100.00\n",
            "[380/800]. Loss: 0.0104. Accuracy: 100.00\n",
            "[385/800]. Loss: 0.0101. Accuracy: 100.00\n",
            "[390/800]. Loss: 0.0098. Accuracy: 100.00\n",
            "[395/800]. Loss: 0.0095. Accuracy: 100.00\n",
            "[400/800]. Loss: 0.0092. Accuracy: 100.00\n",
            "[405/800]. Loss: 0.0089. Accuracy: 100.00\n",
            "[410/800]. Loss: 0.0087. Accuracy: 100.00\n",
            "[415/800]. Loss: 0.0085. Accuracy: 100.00\n",
            "[420/800]. Loss: 0.0082. Accuracy: 100.00\n",
            "[425/800]. Loss: 0.0080. Accuracy: 100.00\n",
            "[430/800]. Loss: 0.0078. Accuracy: 100.00\n",
            "[435/800]. Loss: 0.0076. Accuracy: 100.00\n",
            "[440/800]. Loss: 0.0075. Accuracy: 100.00\n",
            "[445/800]. Loss: 0.0073. Accuracy: 100.00\n",
            "[450/800]. Loss: 0.0071. Accuracy: 100.00\n",
            "[455/800]. Loss: 0.0070. Accuracy: 100.00\n",
            "[460/800]. Loss: 0.0068. Accuracy: 100.00\n",
            "[465/800]. Loss: 0.0067. Accuracy: 100.00\n",
            "[470/800]. Loss: 0.0065. Accuracy: 100.00\n",
            "[475/800]. Loss: 0.0064. Accuracy: 100.00\n",
            "[480/800]. Loss: 0.0063. Accuracy: 100.00\n",
            "[485/800]. Loss: 0.0061. Accuracy: 100.00\n",
            "[490/800]. Loss: 0.0060. Accuracy: 100.00\n",
            "[495/800]. Loss: 0.0059. Accuracy: 100.00\n",
            "[500/800]. Loss: 0.0058. Accuracy: 100.00\n",
            "[505/800]. Loss: 0.0057. Accuracy: 100.00\n",
            "[510/800]. Loss: 0.0056. Accuracy: 100.00\n",
            "[515/800]. Loss: 0.0055. Accuracy: 100.00\n",
            "[520/800]. Loss: 0.0054. Accuracy: 100.00\n",
            "[525/800]. Loss: 0.0053. Accuracy: 100.00\n",
            "[530/800]. Loss: 0.0052. Accuracy: 100.00\n",
            "[535/800]. Loss: 0.0051. Accuracy: 100.00\n",
            "[540/800]. Loss: 0.0050. Accuracy: 100.00\n",
            "[545/800]. Loss: 0.0049. Accuracy: 100.00\n",
            "[550/800]. Loss: 0.0049. Accuracy: 100.00\n",
            "[555/800]. Loss: 0.0048. Accuracy: 100.00\n",
            "[560/800]. Loss: 0.0047. Accuracy: 100.00\n",
            "[565/800]. Loss: 0.0046. Accuracy: 100.00\n",
            "[570/800]. Loss: 0.0046. Accuracy: 100.00\n",
            "[575/800]. Loss: 0.0045. Accuracy: 100.00\n",
            "[580/800]. Loss: 0.0044. Accuracy: 100.00\n",
            "[585/800]. Loss: 0.0044. Accuracy: 100.00\n",
            "[590/800]. Loss: 0.0043. Accuracy: 100.00\n",
            "[595/800]. Loss: 0.0042. Accuracy: 100.00\n",
            "[600/800]. Loss: 0.0042. Accuracy: 100.00\n",
            "[605/800]. Loss: 0.0041. Accuracy: 100.00\n",
            "[610/800]. Loss: 0.0041. Accuracy: 100.00\n",
            "[615/800]. Loss: 0.0040. Accuracy: 100.00\n",
            "[620/800]. Loss: 0.0040. Accuracy: 100.00\n",
            "[625/800]. Loss: 0.0039. Accuracy: 100.00\n",
            "[630/800]. Loss: 0.0039. Accuracy: 100.00\n",
            "[635/800]. Loss: 0.0038. Accuracy: 100.00\n",
            "[640/800]. Loss: 0.0038. Accuracy: 100.00\n",
            "[645/800]. Loss: 0.0037. Accuracy: 100.00\n",
            "[650/800]. Loss: 0.0037. Accuracy: 100.00\n",
            "[655/800]. Loss: 0.0036. Accuracy: 100.00\n",
            "[660/800]. Loss: 0.0036. Accuracy: 100.00\n",
            "[665/800]. Loss: 0.0035. Accuracy: 100.00\n",
            "[670/800]. Loss: 0.0035. Accuracy: 100.00\n",
            "[675/800]. Loss: 0.0035. Accuracy: 100.00\n",
            "[680/800]. Loss: 0.0034. Accuracy: 100.00\n",
            "[685/800]. Loss: 0.0034. Accuracy: 100.00\n",
            "[690/800]. Loss: 0.0033. Accuracy: 100.00\n",
            "[695/800]. Loss: 0.0033. Accuracy: 100.00\n",
            "[700/800]. Loss: 0.0033. Accuracy: 100.00\n",
            "[705/800]. Loss: 0.0032. Accuracy: 100.00\n",
            "[710/800]. Loss: 0.0032. Accuracy: 100.00\n",
            "[715/800]. Loss: 0.0032. Accuracy: 100.00\n",
            "[720/800]. Loss: 0.0031. Accuracy: 100.00\n",
            "[725/800]. Loss: 0.0031. Accuracy: 100.00\n",
            "[730/800]. Loss: 0.0031. Accuracy: 100.00\n",
            "[735/800]. Loss: 0.0030. Accuracy: 100.00\n",
            "[740/800]. Loss: 0.0030. Accuracy: 100.00\n",
            "[745/800]. Loss: 0.0030. Accuracy: 100.00\n",
            "[750/800]. Loss: 0.0029. Accuracy: 100.00\n",
            "[755/800]. Loss: 0.0029. Accuracy: 100.00\n",
            "[760/800]. Loss: 0.0029. Accuracy: 100.00\n",
            "[765/800]. Loss: 0.0029. Accuracy: 100.00\n",
            "[770/800]. Loss: 0.0028. Accuracy: 100.00\n",
            "[775/800]. Loss: 0.0028. Accuracy: 100.00\n",
            "[780/800]. Loss: 0.0028. Accuracy: 100.00\n",
            "[785/800]. Loss: 0.0028. Accuracy: 100.00\n",
            "[790/800]. Loss: 0.0027. Accuracy: 100.00\n",
            "[795/800]. Loss: 0.0027. Accuracy: 100.00\n",
            "[800/800]. Loss: 0.0027. Accuracy: 100.00\n",
            "Final Accuracy: 100.00\n"
          ]
        },
        {
          "output_type": "display_data",
          "data": {
            "text/plain": [
              "<Figure size 640x480 with 1 Axes>"
            ],
            "image/png": "[encoded data removed]"
          },
          "metadata": {}
        }
      ]
    },
    {
      "cell_type": "markdown",
      "source": [
        "**Question 1d: XOR Operator**\n",
        "> Indented block\n",
        "\n"
      ],
      "metadata": {
        "id": "EvAEuaHvxU2y"
      }
    },
    {
      "cell_type": "code",
      "source": [
        "model = BinaryNetwork( hidden_dims= [5])\n",
        "model.train()\n",
        "print(model)\n",
        "operator = \"XOR\" \n",
        "inputs, labels = generate_data(operator = operator)\n",
        "n_iters = 1500\n",
        "learning_rate = 0.1\n",
        "bce_loss_fn = nn.BCELoss()\n",
        "optim = torch.optim.SGD(params = model.parameters(), lr = learning_rate, momentum=0.9)\n",
        "threshold = 0.5\n",
        "losses = []\n",
        "for i in range(1, n_iters + 1):\n",
        "  outputs = model(inputs)\n",
        "  outputs = outputs.reshape(-1)\n",
        "  \n",
        "  loss = bce_loss_fn(outputs, labels)\n",
        "  losses.append(loss)\n",
        "  predictions = (outputs > threshold).long()\n",
        "  \n",
        "  accuracy = (predictions == labels).float().mean() * 100.\n",
        "\n",
        "  optim.zero_grad()\n",
        "  loss.backward()\n",
        "  optim.step()\n",
        "\n",
        "  loss = loss.item() # Convert to Python Scalar\n",
        "  accuracy = accuracy.item() # Convert to Python Scalar\n",
        "\n",
        "  if i % 5 == 0:\n",
        "    print(\"[%d/%d]. Loss: %0.4f. Accuracy: %0.2f\" % (i, n_iters, loss, accuracy))\n",
        "\n",
        "model.eval()\n",
        "outputs = model(inputs)\n",
        "outputs = outputs.reshape(-1)\n",
        "predictions = (outputs > threshold).long()  \n",
        "accuracy = (predictions == labels).float().mean() * 100.\n",
        "accuracy = accuracy.item()\n",
        "#losses = losses.detach().numpy()\n",
        "with torch.no_grad():\n",
        "  plt.title(operator+\" Training Loss\")\n",
        "  plt.xlabel(\"Iterations\")\n",
        "  plt.ylabel(\"Loss\")\n",
        "  plt.plot(losses)\n",
        "print(\"Final Accuracy: %0.2f\" % (accuracy))\n",
        "\n",
        "torch.save(model.state_dict(), \"%s_Network.pth\" % operator)\n",
        "  # model.load_state_dict(torch.load(\"%s_Network.pth\" % operator)) # Load model in the next time you use"
      ],
      "metadata": {
        "colab": {
          "base_uri": "https://localhost:8080/",
          "height": 1000
        },
        "id": "KBByCXDexnFd",
        "outputId": "bf9373a3-42f5-481e-aec1-1aa746b137cb"
      },
      "execution_count": null,
      "outputs": [
        {
          "output_type": "stream",
          "name": "stdout",
          "text": [
            "BinaryNetwork(\n",
            "  (layers): ModuleList(\n",
            "    (0): Linear(in_features=2, out_features=5, bias=True)\n",
            "    (1): Sigmoid()\n",
            "    (2): Linear(in_features=5, out_features=1, bias=True)\n",
            "    (3): Sigmoid()\n",
            "  )\n",
            ")\n",
            "[5/1500]. Loss: 0.7199. Accuracy: 50.00\n",
            "[10/1500]. Loss: 0.6965. Accuracy: 50.00\n",
            "[15/1500]. Loss: 0.7113. Accuracy: 50.00\n",
            "[20/1500]. Loss: 0.6948. Accuracy: 50.00\n",
            "[25/1500]. Loss: 0.6945. Accuracy: 50.00\n",
            "[30/1500]. Loss: 0.6958. Accuracy: 50.00\n",
            "[35/1500]. Loss: 0.6921. Accuracy: 75.00\n",
            "[40/1500]. Loss: 0.6927. Accuracy: 50.00\n",
            "[45/1500]. Loss: 0.6925. Accuracy: 50.00\n",
            "[50/1500]. Loss: 0.6917. Accuracy: 50.00\n",
            "[55/1500]. Loss: 0.6918. Accuracy: 75.00\n",
            "[60/1500]. Loss: 0.6916. Accuracy: 75.00\n",
            "[65/1500]. Loss: 0.6914. Accuracy: 50.00\n",
            "[70/1500]. Loss: 0.6913. Accuracy: 25.00\n",
            "[75/1500]. Loss: 0.6911. Accuracy: 25.00\n",
            "[80/1500]. Loss: 0.6909. Accuracy: 75.00\n",
            "[85/1500]. Loss: 0.6907. Accuracy: 75.00\n",
            "[90/1500]. Loss: 0.6905. Accuracy: 75.00\n",
            "[95/1500]. Loss: 0.6903. Accuracy: 50.00\n",
            "[100/1500]. Loss: 0.6901. Accuracy: 50.00\n",
            "[105/1500]. Loss: 0.6898. Accuracy: 75.00\n",
            "[110/1500]. Loss: 0.6895. Accuracy: 75.00\n",
            "[115/1500]. Loss: 0.6892. Accuracy: 75.00\n",
            "[120/1500]. Loss: 0.6889. Accuracy: 75.00\n",
            "[125/1500]. Loss: 0.6885. Accuracy: 75.00\n",
            "[130/1500]. Loss: 0.6880. Accuracy: 75.00\n",
            "[135/1500]. Loss: 0.6875. Accuracy: 75.00\n",
            "[140/1500]. Loss: 0.6870. Accuracy: 75.00\n",
            "[145/1500]. Loss: 0.6864. Accuracy: 75.00\n",
            "[150/1500]. Loss: 0.6857. Accuracy: 75.00\n",
            "[155/1500]. Loss: 0.6849. Accuracy: 75.00\n",
            "[160/1500]. Loss: 0.6841. Accuracy: 75.00\n",
            "[165/1500]. Loss: 0.6831. Accuracy: 75.00\n",
            "[170/1500]. Loss: 0.6820. Accuracy: 75.00\n",
            "[175/1500]. Loss: 0.6808. Accuracy: 75.00\n",
            "[180/1500]. Loss: 0.6794. Accuracy: 75.00\n",
            "[185/1500]. Loss: 0.6778. Accuracy: 75.00\n",
            "[190/1500]. Loss: 0.6760. Accuracy: 75.00\n",
            "[195/1500]. Loss: 0.6740. Accuracy: 75.00\n",
            "[200/1500]. Loss: 0.6717. Accuracy: 75.00\n",
            "[205/1500]. Loss: 0.6692. Accuracy: 75.00\n",
            "[210/1500]. Loss: 0.6663. Accuracy: 75.00\n",
            "[215/1500]. Loss: 0.6631. Accuracy: 75.00\n",
            "[220/1500]. Loss: 0.6596. Accuracy: 75.00\n",
            "[225/1500]. Loss: 0.6556. Accuracy: 75.00\n",
            "[230/1500]. Loss: 0.6511. Accuracy: 75.00\n",
            "[235/1500]. Loss: 0.6462. Accuracy: 75.00\n",
            "[240/1500]. Loss: 0.6409. Accuracy: 75.00\n",
            "[245/1500]. Loss: 0.6350. Accuracy: 75.00\n",
            "[250/1500]. Loss: 0.6285. Accuracy: 75.00\n",
            "[255/1500]. Loss: 0.6215. Accuracy: 75.00\n",
            "[260/1500]. Loss: 0.6140. Accuracy: 75.00\n",
            "[265/1500]. Loss: 0.6059. Accuracy: 75.00\n",
            "[270/1500]. Loss: 0.5972. Accuracy: 75.00\n",
            "[275/1500]. Loss: 0.5879. Accuracy: 75.00\n",
            "[280/1500]. Loss: 0.5780. Accuracy: 75.00\n",
            "[285/1500]. Loss: 0.5675. Accuracy: 75.00\n",
            "[290/1500]. Loss: 0.5563. Accuracy: 75.00\n",
            "[295/1500]. Loss: 0.5444. Accuracy: 75.00\n",
            "[300/1500]. Loss: 0.5317. Accuracy: 75.00\n",
            "[305/1500]. Loss: 0.5183. Accuracy: 75.00\n",
            "[310/1500]. Loss: 0.5039. Accuracy: 75.00\n",
            "[315/1500]. Loss: 0.4887. Accuracy: 75.00\n",
            "[320/1500]. Loss: 0.4725. Accuracy: 75.00\n",
            "[325/1500]. Loss: 0.4554. Accuracy: 100.00\n",
            "[330/1500]. Loss: 0.4374. Accuracy: 100.00\n",
            "[335/1500]. Loss: 0.4185. Accuracy: 100.00\n",
            "[340/1500]. Loss: 0.3989. Accuracy: 100.00\n",
            "[345/1500]. Loss: 0.3787. Accuracy: 100.00\n",
            "[350/1500]. Loss: 0.3581. Accuracy: 100.00\n",
            "[355/1500]. Loss: 0.3374. Accuracy: 100.00\n",
            "[360/1500]. Loss: 0.3167. Accuracy: 100.00\n",
            "[365/1500]. Loss: 0.2963. Accuracy: 100.00\n",
            "[370/1500]. Loss: 0.2765. Accuracy: 100.00\n",
            "[375/1500]. Loss: 0.2575. Accuracy: 100.00\n",
            "[380/1500]. Loss: 0.2395. Accuracy: 100.00\n",
            "[385/1500]. Loss: 0.2224. Accuracy: 100.00\n",
            "[390/1500]. Loss: 0.2066. Accuracy: 100.00\n",
            "[395/1500]. Loss: 0.1919. Accuracy: 100.00\n",
            "[400/1500]. Loss: 0.1784. Accuracy: 100.00\n",
            "[405/1500]. Loss: 0.1660. Accuracy: 100.00\n",
            "[410/1500]. Loss: 0.1547. Accuracy: 100.00\n",
            "[415/1500]. Loss: 0.1444. Accuracy: 100.00\n",
            "[420/1500]. Loss: 0.1351. Accuracy: 100.00\n",
            "[425/1500]. Loss: 0.1266. Accuracy: 100.00\n",
            "[430/1500]. Loss: 0.1189. Accuracy: 100.00\n",
            "[435/1500]. Loss: 0.1119. Accuracy: 100.00\n",
            "[440/1500]. Loss: 0.1055. Accuracy: 100.00\n",
            "[445/1500]. Loss: 0.0997. Accuracy: 100.00\n",
            "[450/1500]. Loss: 0.0944. Accuracy: 100.00\n",
            "[455/1500]. Loss: 0.0896. Accuracy: 100.00\n",
            "[460/1500]. Loss: 0.0851. Accuracy: 100.00\n",
            "[465/1500]. Loss: 0.0810. Accuracy: 100.00\n",
            "[470/1500]. Loss: 0.0773. Accuracy: 100.00\n",
            "[475/1500]. Loss: 0.0738. Accuracy: 100.00\n",
            "[480/1500]. Loss: 0.0706. Accuracy: 100.00\n",
            "[485/1500]. Loss: 0.0677. Accuracy: 100.00\n",
            "[490/1500]. Loss: 0.0649. Accuracy: 100.00\n",
            "[495/1500]. Loss: 0.0624. Accuracy: 100.00\n",
            "[500/1500]. Loss: 0.0600. Accuracy: 100.00\n",
            "[505/1500]. Loss: 0.0578. Accuracy: 100.00\n",
            "[510/1500]. Loss: 0.0557. Accuracy: 100.00\n",
            "[515/1500]. Loss: 0.0538. Accuracy: 100.00\n",
            "[520/1500]. Loss: 0.0519. Accuracy: 100.00\n",
            "[525/1500]. Loss: 0.0502. Accuracy: 100.00\n",
            "[530/1500]. Loss: 0.0486. Accuracy: 100.00\n",
            "[535/1500]. Loss: 0.0471. Accuracy: 100.00\n",
            "[540/1500]. Loss: 0.0457. Accuracy: 100.00\n",
            "[545/1500]. Loss: 0.0443. Accuracy: 100.00\n",
            "[550/1500]. Loss: 0.0430. Accuracy: 100.00\n",
            "[555/1500]. Loss: 0.0418. Accuracy: 100.00\n",
            "[560/1500]. Loss: 0.0407. Accuracy: 100.00\n",
            "[565/1500]. Loss: 0.0396. Accuracy: 100.00\n",
            "[570/1500]. Loss: 0.0385. Accuracy: 100.00\n",
            "[575/1500]. Loss: 0.0375. Accuracy: 100.00\n",
            "[580/1500]. Loss: 0.0366. Accuracy: 100.00\n",
            "[585/1500]. Loss: 0.0357. Accuracy: 100.00\n",
            "[590/1500]. Loss: 0.0348. Accuracy: 100.00\n",
            "[595/1500]. Loss: 0.0340. Accuracy: 100.00\n",
            "[600/1500]. Loss: 0.0332. Accuracy: 100.00\n",
            "[605/1500]. Loss: 0.0325. Accuracy: 100.00\n",
            "[610/1500]. Loss: 0.0317. Accuracy: 100.00\n",
            "[615/1500]. Loss: 0.0310. Accuracy: 100.00\n",
            "[620/1500]. Loss: 0.0304. Accuracy: 100.00\n",
            "[625/1500]. Loss: 0.0297. Accuracy: 100.00\n",
            "[630/1500]. Loss: 0.0291. Accuracy: 100.00\n",
            "[635/1500]. Loss: 0.0285. Accuracy: 100.00\n",
            "[640/1500]. Loss: 0.0280. Accuracy: 100.00\n",
            "[645/1500]. Loss: 0.0274. Accuracy: 100.00\n",
            "[650/1500]. Loss: 0.0269. Accuracy: 100.00\n",
            "[655/1500]. Loss: 0.0264. Accuracy: 100.00\n",
            "[660/1500]. Loss: 0.0259. Accuracy: 100.00\n",
            "[665/1500]. Loss: 0.0254. Accuracy: 100.00\n",
            "[670/1500]. Loss: 0.0250. Accuracy: 100.00\n",
            "[675/1500]. Loss: 0.0245. Accuracy: 100.00\n",
            "[680/1500]. Loss: 0.0241. Accuracy: 100.00\n",
            "[685/1500]. Loss: 0.0237. Accuracy: 100.00\n",
            "[690/1500]. Loss: 0.0233. Accuracy: 100.00\n",
            "[695/1500]. Loss: 0.0229. Accuracy: 100.00\n",
            "[700/1500]. Loss: 0.0225. Accuracy: 100.00\n",
            "[705/1500]. Loss: 0.0222. Accuracy: 100.00\n",
            "[710/1500]. Loss: 0.0218. Accuracy: 100.00\n",
            "[715/1500]. Loss: 0.0215. Accuracy: 100.00\n",
            "[720/1500]. Loss: 0.0211. Accuracy: 100.00\n",
            "[725/1500]. Loss: 0.0208. Accuracy: 100.00\n",
            "[730/1500]. Loss: 0.0205. Accuracy: 100.00\n",
            "[735/1500]. Loss: 0.0202. Accuracy: 100.00\n",
            "[740/1500]. Loss: 0.0199. Accuracy: 100.00\n",
            "[745/1500]. Loss: 0.0196. Accuracy: 100.00\n",
            "[750/1500]. Loss: 0.0193. Accuracy: 100.00\n",
            "[755/1500]. Loss: 0.0191. Accuracy: 100.00\n",
            "[760/1500]. Loss: 0.0188. Accuracy: 100.00\n",
            "[765/1500]. Loss: 0.0185. Accuracy: 100.00\n",
            "[770/1500]. Loss: 0.0183. Accuracy: 100.00\n",
            "[775/1500]. Loss: 0.0181. Accuracy: 100.00\n",
            "[780/1500]. Loss: 0.0178. Accuracy: 100.00\n",
            "[785/1500]. Loss: 0.0176. Accuracy: 100.00\n",
            "[790/1500]. Loss: 0.0174. Accuracy: 100.00\n",
            "[795/1500]. Loss: 0.0171. Accuracy: 100.00\n",
            "[800/1500]. Loss: 0.0169. Accuracy: 100.00\n",
            "[805/1500]. Loss: 0.0167. Accuracy: 100.00\n",
            "[810/1500]. Loss: 0.0165. Accuracy: 100.00\n",
            "[815/1500]. Loss: 0.0163. Accuracy: 100.00\n",
            "[820/1500]. Loss: 0.0161. Accuracy: 100.00\n",
            "[825/1500]. Loss: 0.0159. Accuracy: 100.00\n",
            "[830/1500]. Loss: 0.0157. Accuracy: 100.00\n",
            "[835/1500]. Loss: 0.0155. Accuracy: 100.00\n",
            "[840/1500]. Loss: 0.0154. Accuracy: 100.00\n",
            "[845/1500]. Loss: 0.0152. Accuracy: 100.00\n",
            "[850/1500]. Loss: 0.0150. Accuracy: 100.00\n",
            "[855/1500]. Loss: 0.0148. Accuracy: 100.00\n",
            "[860/1500]. Loss: 0.0147. Accuracy: 100.00\n",
            "[865/1500]. Loss: 0.0145. Accuracy: 100.00\n",
            "[870/1500]. Loss: 0.0144. Accuracy: 100.00\n",
            "[875/1500]. Loss: 0.0142. Accuracy: 100.00\n",
            "[880/1500]. Loss: 0.0141. Accuracy: 100.00\n",
            "[885/1500]. Loss: 0.0139. Accuracy: 100.00\n",
            "[890/1500]. Loss: 0.0138. Accuracy: 100.00\n",
            "[895/1500]. Loss: 0.0136. Accuracy: 100.00\n",
            "[900/1500]. Loss: 0.0135. Accuracy: 100.00\n",
            "[905/1500]. Loss: 0.0134. Accuracy: 100.00\n",
            "[910/1500]. Loss: 0.0132. Accuracy: 100.00\n",
            "[915/1500]. Loss: 0.0131. Accuracy: 100.00\n",
            "[920/1500]. Loss: 0.0130. Accuracy: 100.00\n",
            "[925/1500]. Loss: 0.0128. Accuracy: 100.00\n",
            "[930/1500]. Loss: 0.0127. Accuracy: 100.00\n",
            "[935/1500]. Loss: 0.0126. Accuracy: 100.00\n",
            "[940/1500]. Loss: 0.0125. Accuracy: 100.00\n",
            "[945/1500]. Loss: 0.0123. Accuracy: 100.00\n",
            "[950/1500]. Loss: 0.0122. Accuracy: 100.00\n",
            "[955/1500]. Loss: 0.0121. Accuracy: 100.00\n",
            "[960/1500]. Loss: 0.0120. Accuracy: 100.00\n",
            "[965/1500]. Loss: 0.0119. Accuracy: 100.00\n",
            "[970/1500]. Loss: 0.0118. Accuracy: 100.00\n",
            "[975/1500]. Loss: 0.0117. Accuracy: 100.00\n",
            "[980/1500]. Loss: 0.0116. Accuracy: 100.00\n",
            "[985/1500]. Loss: 0.0115. Accuracy: 100.00\n",
            "[990/1500]. Loss: 0.0114. Accuracy: 100.00\n",
            "[995/1500]. Loss: 0.0113. Accuracy: 100.00\n",
            "[1000/1500]. Loss: 0.0112. Accuracy: 100.00\n",
            "[1005/1500]. Loss: 0.0111. Accuracy: 100.00\n",
            "[1010/1500]. Loss: 0.0110. Accuracy: 100.00\n",
            "[1015/1500]. Loss: 0.0109. Accuracy: 100.00\n",
            "[1020/1500]. Loss: 0.0108. Accuracy: 100.00\n",
            "[1025/1500]. Loss: 0.0107. Accuracy: 100.00\n",
            "[1030/1500]. Loss: 0.0106. Accuracy: 100.00\n",
            "[1035/1500]. Loss: 0.0106. Accuracy: 100.00\n",
            "[1040/1500]. Loss: 0.0105. Accuracy: 100.00\n",
            "[1045/1500]. Loss: 0.0104. Accuracy: 100.00\n",
            "[1050/1500]. Loss: 0.0103. Accuracy: 100.00\n",
            "[1055/1500]. Loss: 0.0102. Accuracy: 100.00\n",
            "[1060/1500]. Loss: 0.0101. Accuracy: 100.00\n",
            "[1065/1500]. Loss: 0.0101. Accuracy: 100.00\n",
            "[1070/1500]. Loss: 0.0100. Accuracy: 100.00\n",
            "[1075/1500]. Loss: 0.0099. Accuracy: 100.00\n",
            "[1080/1500]. Loss: 0.0098. Accuracy: 100.00\n",
            "[1085/1500]. Loss: 0.0098. Accuracy: 100.00\n",
            "[1090/1500]. Loss: 0.0097. Accuracy: 100.00\n",
            "[1095/1500]. Loss: 0.0096. Accuracy: 100.00\n",
            "[1100/1500]. Loss: 0.0095. Accuracy: 100.00\n",
            "[1105/1500]. Loss: 0.0095. Accuracy: 100.00\n",
            "[1110/1500]. Loss: 0.0094. Accuracy: 100.00\n",
            "[1115/1500]. Loss: 0.0093. Accuracy: 100.00\n",
            "[1120/1500]. Loss: 0.0093. Accuracy: 100.00\n",
            "[1125/1500]. Loss: 0.0092. Accuracy: 100.00\n",
            "[1130/1500]. Loss: 0.0091. Accuracy: 100.00\n",
            "[1135/1500]. Loss: 0.0091. Accuracy: 100.00\n",
            "[1140/1500]. Loss: 0.0090. Accuracy: 100.00\n",
            "[1145/1500]. Loss: 0.0089. Accuracy: 100.00\n",
            "[1150/1500]. Loss: 0.0089. Accuracy: 100.00\n",
            "[1155/1500]. Loss: 0.0088. Accuracy: 100.00\n",
            "[1160/1500]. Loss: 0.0088. Accuracy: 100.00\n",
            "[1165/1500]. Loss: 0.0087. Accuracy: 100.00\n",
            "[1170/1500]. Loss: 0.0086. Accuracy: 100.00\n",
            "[1175/1500]. Loss: 0.0086. Accuracy: 100.00\n",
            "[1180/1500]. Loss: 0.0085. Accuracy: 100.00\n",
            "[1185/1500]. Loss: 0.0085. Accuracy: 100.00\n",
            "[1190/1500]. Loss: 0.0084. Accuracy: 100.00\n",
            "[1195/1500]. Loss: 0.0084. Accuracy: 100.00\n",
            "[1200/1500]. Loss: 0.0083. Accuracy: 100.00\n",
            "[1205/1500]. Loss: 0.0083. Accuracy: 100.00\n",
            "[1210/1500]. Loss: 0.0082. Accuracy: 100.00\n",
            "[1215/1500]. Loss: 0.0082. Accuracy: 100.00\n",
            "[1220/1500]. Loss: 0.0081. Accuracy: 100.00\n",
            "[1225/1500]. Loss: 0.0080. Accuracy: 100.00\n",
            "[1230/1500]. Loss: 0.0080. Accuracy: 100.00\n",
            "[1235/1500]. Loss: 0.0079. Accuracy: 100.00\n",
            "[1240/1500]. Loss: 0.0079. Accuracy: 100.00\n",
            "[1245/1500]. Loss: 0.0079. Accuracy: 100.00\n",
            "[1250/1500]. Loss: 0.0078. Accuracy: 100.00\n",
            "[1255/1500]. Loss: 0.0078. Accuracy: 100.00\n",
            "[1260/1500]. Loss: 0.0077. Accuracy: 100.00\n",
            "[1265/1500]. Loss: 0.0077. Accuracy: 100.00\n",
            "[1270/1500]. Loss: 0.0076. Accuracy: 100.00\n",
            "[1275/1500]. Loss: 0.0076. Accuracy: 100.00\n",
            "[1280/1500]. Loss: 0.0075. Accuracy: 100.00\n",
            "[1285/1500]. Loss: 0.0075. Accuracy: 100.00\n",
            "[1290/1500]. Loss: 0.0074. Accuracy: 100.00\n",
            "[1295/1500]. Loss: 0.0074. Accuracy: 100.00\n",
            "[1300/1500]. Loss: 0.0074. Accuracy: 100.00\n",
            "[1305/1500]. Loss: 0.0073. Accuracy: 100.00\n",
            "[1310/1500]. Loss: 0.0073. Accuracy: 100.00\n",
            "[1315/1500]. Loss: 0.0072. Accuracy: 100.00\n",
            "[1320/1500]. Loss: 0.0072. Accuracy: 100.00\n",
            "[1325/1500]. Loss: 0.0071. Accuracy: 100.00\n",
            "[1330/1500]. Loss: 0.0071. Accuracy: 100.00\n",
            "[1335/1500]. Loss: 0.0071. Accuracy: 100.00\n",
            "[1340/1500]. Loss: 0.0070. Accuracy: 100.00\n",
            "[1345/1500]. Loss: 0.0070. Accuracy: 100.00\n",
            "[1350/1500]. Loss: 0.0070. Accuracy: 100.00\n",
            "[1355/1500]. Loss: 0.0069. Accuracy: 100.00\n",
            "[1360/1500]. Loss: 0.0069. Accuracy: 100.00\n",
            "[1365/1500]. Loss: 0.0068. Accuracy: 100.00\n",
            "[1370/1500]. Loss: 0.0068. Accuracy: 100.00\n",
            "[1375/1500]. Loss: 0.0068. Accuracy: 100.00\n",
            "[1380/1500]. Loss: 0.0067. Accuracy: 100.00\n",
            "[1385/1500]. Loss: 0.0067. Accuracy: 100.00\n",
            "[1390/1500]. Loss: 0.0067. Accuracy: 100.00\n",
            "[1395/1500]. Loss: 0.0066. Accuracy: 100.00\n",
            "[1400/1500]. Loss: 0.0066. Accuracy: 100.00\n",
            "[1405/1500]. Loss: 0.0066. Accuracy: 100.00\n",
            "[1410/1500]. Loss: 0.0065. Accuracy: 100.00\n",
            "[1415/1500]. Loss: 0.0065. Accuracy: 100.00\n",
            "[1420/1500]. Loss: 0.0065. Accuracy: 100.00\n",
            "[1425/1500]. Loss: 0.0064. Accuracy: 100.00\n",
            "[1430/1500]. Loss: 0.0064. Accuracy: 100.00\n",
            "[1435/1500]. Loss: 0.0064. Accuracy: 100.00\n",
            "[1440/1500]. Loss: 0.0063. Accuracy: 100.00\n",
            "[1445/1500]. Loss: 0.0063. Accuracy: 100.00\n",
            "[1450/1500]. Loss: 0.0063. Accuracy: 100.00\n",
            "[1455/1500]. Loss: 0.0062. Accuracy: 100.00\n",
            "[1460/1500]. Loss: 0.0062. Accuracy: 100.00\n",
            "[1465/1500]. Loss: 0.0062. Accuracy: 100.00\n",
            "[1470/1500]. Loss: 0.0061. Accuracy: 100.00\n",
            "[1475/1500]. Loss: 0.0061. Accuracy: 100.00\n",
            "[1480/1500]. Loss: 0.0061. Accuracy: 100.00\n",
            "[1485/1500]. Loss: 0.0061. Accuracy: 100.00\n",
            "[1490/1500]. Loss: 0.0060. Accuracy: 100.00\n",
            "[1495/1500]. Loss: 0.0060. Accuracy: 100.00\n",
            "[1500/1500]. Loss: 0.0060. Accuracy: 100.00\n",
            "Final Accuracy: 100.00\n"
          ]
        },
        {
          "output_type": "display_data",
          "data": {
            "text/plain": [
              "<Figure size 640x480 with 1 Axes>"
            ],
            "image/png": "[encoded data removed]"
          },
          "metadata": {}
        }
      ]
    },
    {
      "cell_type": "markdown",
      "source": [
        "**Question 1e: NOR Operator**"
      ],
      "metadata": {
        "id": "pQ5MyUeLzlyo"
      }
    },
    {
      "cell_type": "code",
      "source": [
        "model = BinaryNetwork( hidden_dims= [4,4])\n",
        "model.train()\n",
        "print(model)\n",
        "operator = \"NOR\" \n",
        "inputs, labels = generate_data(operator = operator)\n",
        "n_iters = 800\n",
        "learning_rate = 0.1\n",
        "bce_loss_fn = nn.BCELoss()\n",
        "optim = torch.optim.SGD(params = model.parameters(), lr = learning_rate, momentum=0.9)\n",
        "threshold = 0.5\n",
        "losses = []\n",
        "for i in range(1, n_iters + 1):\n",
        "  outputs = model(inputs)\n",
        "  outputs = outputs.reshape(-1)\n",
        "  \n",
        "  loss = bce_loss_fn(outputs, labels)\n",
        "  losses.append(loss)\n",
        "  predictions = (outputs > threshold).long()\n",
        "  \n",
        "  accuracy = (predictions == labels).float().mean() * 100.\n",
        "\n",
        "  optim.zero_grad()\n",
        "  loss.backward()\n",
        "  optim.step()\n",
        "\n",
        "  loss = loss.item() # Convert to Python Scalar\n",
        "  accuracy = accuracy.item() # Convert to Python Scalar\n",
        "\n",
        "  if i % 5 == 0:\n",
        "    print(\"[%d/%d]. Loss: %0.4f. Accuracy: %0.2f\" % (i, n_iters, loss, accuracy))\n",
        "\n",
        "model.eval()\n",
        "outputs = model(inputs)\n",
        "outputs = outputs.reshape(-1)\n",
        "predictions = (outputs > threshold).long()  \n",
        "accuracy = (predictions == labels).float().mean() * 100.\n",
        "accuracy = accuracy.item()\n",
        "#losses = losses.detach().numpy()\n",
        "with torch.no_grad():\n",
        "  plt.title(operator+\" Training Loss\")\n",
        "  plt.xlabel(\"Iterations\")\n",
        "  plt.ylabel(\"Loss\")\n",
        "  plt.plot(losses)\n",
        "print(\"Final Accuracy: %0.2f\" % (accuracy))\n",
        "\n",
        "torch.save(model.state_dict(), \"%s_Network.pth\" % operator)\n",
        "  # model.load_state_dict(torch.load(\"%s_Network.pth\" % operator)) # Load model in the next time you use"
      ],
      "metadata": {
        "colab": {
          "base_uri": "https://localhost:8080/",
          "height": 1000
        },
        "id": "Z7lJnfXGzmWD",
        "outputId": "177aae33-f38e-4246-edfe-a7d6ca248b9d"
      },
      "execution_count": null,
      "outputs": [
        {
          "output_type": "stream",
          "name": "stdout",
          "text": [
            "BinaryNetwork(\n",
            "  (layers): ModuleList(\n",
            "    (0): Linear(in_features=2, out_features=4, bias=True)\n",
            "    (1): Sigmoid()\n",
            "    (2): Linear(in_features=4, out_features=4, bias=True)\n",
            "    (3): Sigmoid()\n",
            "    (4): Linear(in_features=4, out_features=1, bias=True)\n",
            "    (5): Sigmoid()\n",
            "  )\n",
            ")\n",
            "[5/800]. Loss: 0.6235. Accuracy: 75.00\n",
            "[10/800]. Loss: 0.5643. Accuracy: 75.00\n",
            "[15/800]. Loss: 0.5901. Accuracy: 75.00\n",
            "[20/800]. Loss: 0.5837. Accuracy: 75.00\n",
            "[25/800]. Loss: 0.5650. Accuracy: 75.00\n",
            "[30/800]. Loss: 0.5640. Accuracy: 75.00\n",
            "[35/800]. Loss: 0.5667. Accuracy: 75.00\n",
            "[40/800]. Loss: 0.5635. Accuracy: 75.00\n",
            "[45/800]. Loss: 0.5619. Accuracy: 75.00\n",
            "[50/800]. Loss: 0.5624. Accuracy: 75.00\n",
            "[55/800]. Loss: 0.5621. Accuracy: 75.00\n",
            "[60/800]. Loss: 0.5614. Accuracy: 75.00\n",
            "[65/800]. Loss: 0.5613. Accuracy: 75.00\n",
            "[70/800]. Loss: 0.5611. Accuracy: 75.00\n",
            "[75/800]. Loss: 0.5609. Accuracy: 75.00\n",
            "[80/800]. Loss: 0.5606. Accuracy: 75.00\n",
            "[85/800]. Loss: 0.5604. Accuracy: 75.00\n",
            "[90/800]. Loss: 0.5602. Accuracy: 75.00\n",
            "[95/800]. Loss: 0.5599. Accuracy: 75.00\n",
            "[100/800]. Loss: 0.5596. Accuracy: 75.00\n",
            "[105/800]. Loss: 0.5593. Accuracy: 75.00\n",
            "[110/800]. Loss: 0.5590. Accuracy: 75.00\n",
            "[115/800]. Loss: 0.5586. Accuracy: 75.00\n",
            "[120/800]. Loss: 0.5582. Accuracy: 75.00\n",
            "[125/800]. Loss: 0.5578. Accuracy: 75.00\n",
            "[130/800]. Loss: 0.5572. Accuracy: 75.00\n",
            "[135/800]. Loss: 0.5567. Accuracy: 75.00\n",
            "[140/800]. Loss: 0.5560. Accuracy: 75.00\n",
            "[145/800]. Loss: 0.5553. Accuracy: 75.00\n",
            "[150/800]. Loss: 0.5544. Accuracy: 75.00\n",
            "[155/800]. Loss: 0.5534. Accuracy: 75.00\n",
            "[160/800]. Loss: 0.5523. Accuracy: 75.00\n",
            "[165/800]. Loss: 0.5511. Accuracy: 75.00\n",
            "[170/800]. Loss: 0.5496. Accuracy: 75.00\n",
            "[175/800]. Loss: 0.5479. Accuracy: 75.00\n",
            "[180/800]. Loss: 0.5459. Accuracy: 75.00\n",
            "[185/800]. Loss: 0.5435. Accuracy: 75.00\n",
            "[190/800]. Loss: 0.5407. Accuracy: 75.00\n",
            "[195/800]. Loss: 0.5374. Accuracy: 75.00\n",
            "[200/800]. Loss: 0.5335. Accuracy: 75.00\n",
            "[205/800]. Loss: 0.5288. Accuracy: 75.00\n",
            "[210/800]. Loss: 0.5232. Accuracy: 75.00\n",
            "[215/800]. Loss: 0.5164. Accuracy: 75.00\n",
            "[220/800]. Loss: 0.5082. Accuracy: 75.00\n",
            "[225/800]. Loss: 0.4982. Accuracy: 75.00\n",
            "[230/800]. Loss: 0.4861. Accuracy: 75.00\n",
            "[235/800]. Loss: 0.4714. Accuracy: 75.00\n",
            "[240/800]. Loss: 0.4537. Accuracy: 75.00\n",
            "[245/800]. Loss: 0.4326. Accuracy: 75.00\n",
            "[250/800]. Loss: 0.4077. Accuracy: 75.00\n",
            "[255/800]. Loss: 0.3790. Accuracy: 75.00\n",
            "[260/800]. Loss: 0.3468. Accuracy: 75.00\n",
            "[265/800]. Loss: 0.3118. Accuracy: 75.00\n",
            "[270/800]. Loss: 0.2752. Accuracy: 100.00\n",
            "[275/800]. Loss: 0.2385. Accuracy: 100.00\n",
            "[280/800]. Loss: 0.2036. Accuracy: 100.00\n",
            "[285/800]. Loss: 0.1717. Accuracy: 100.00\n",
            "[290/800]. Loss: 0.1438. Accuracy: 100.00\n",
            "[295/800]. Loss: 0.1203. Accuracy: 100.00\n",
            "[300/800]. Loss: 0.1011. Accuracy: 100.00\n",
            "[305/800]. Loss: 0.0856. Accuracy: 100.00\n",
            "[310/800]. Loss: 0.0732. Accuracy: 100.00\n",
            "[315/800]. Loss: 0.0633. Accuracy: 100.00\n",
            "[320/800]. Loss: 0.0554. Accuracy: 100.00\n",
            "[325/800]. Loss: 0.0491. Accuracy: 100.00\n",
            "[330/800]. Loss: 0.0439. Accuracy: 100.00\n",
            "[335/800]. Loss: 0.0396. Accuracy: 100.00\n",
            "[340/800]. Loss: 0.0361. Accuracy: 100.00\n",
            "[345/800]. Loss: 0.0331. Accuracy: 100.00\n",
            "[350/800]. Loss: 0.0305. Accuracy: 100.00\n",
            "[355/800]. Loss: 0.0283. Accuracy: 100.00\n",
            "[360/800]. Loss: 0.0264. Accuracy: 100.00\n",
            "[365/800]. Loss: 0.0247. Accuracy: 100.00\n",
            "[370/800]. Loss: 0.0232. Accuracy: 100.00\n",
            "[375/800]. Loss: 0.0219. Accuracy: 100.00\n",
            "[380/800]. Loss: 0.0207. Accuracy: 100.00\n",
            "[385/800]. Loss: 0.0197. Accuracy: 100.00\n",
            "[390/800]. Loss: 0.0187. Accuracy: 100.00\n",
            "[395/800]. Loss: 0.0178. Accuracy: 100.00\n",
            "[400/800]. Loss: 0.0170. Accuracy: 100.00\n",
            "[405/800]. Loss: 0.0163. Accuracy: 100.00\n",
            "[410/800]. Loss: 0.0156. Accuracy: 100.00\n",
            "[415/800]. Loss: 0.0150. Accuracy: 100.00\n",
            "[420/800]. Loss: 0.0144. Accuracy: 100.00\n",
            "[425/800]. Loss: 0.0139. Accuracy: 100.00\n",
            "[430/800]. Loss: 0.0134. Accuracy: 100.00\n",
            "[435/800]. Loss: 0.0130. Accuracy: 100.00\n",
            "[440/800]. Loss: 0.0125. Accuracy: 100.00\n",
            "[445/800]. Loss: 0.0121. Accuracy: 100.00\n",
            "[450/800]. Loss: 0.0117. Accuracy: 100.00\n",
            "[455/800]. Loss: 0.0114. Accuracy: 100.00\n",
            "[460/800]. Loss: 0.0110. Accuracy: 100.00\n",
            "[465/800]. Loss: 0.0107. Accuracy: 100.00\n",
            "[470/800]. Loss: 0.0104. Accuracy: 100.00\n",
            "[475/800]. Loss: 0.0101. Accuracy: 100.00\n",
            "[480/800]. Loss: 0.0099. Accuracy: 100.00\n",
            "[485/800]. Loss: 0.0096. Accuracy: 100.00\n",
            "[490/800]. Loss: 0.0094. Accuracy: 100.00\n",
            "[495/800]. Loss: 0.0091. Accuracy: 100.00\n",
            "[500/800]. Loss: 0.0089. Accuracy: 100.00\n",
            "[505/800]. Loss: 0.0087. Accuracy: 100.00\n",
            "[510/800]. Loss: 0.0085. Accuracy: 100.00\n",
            "[515/800]. Loss: 0.0083. Accuracy: 100.00\n",
            "[520/800]. Loss: 0.0081. Accuracy: 100.00\n",
            "[525/800]. Loss: 0.0079. Accuracy: 100.00\n",
            "[530/800]. Loss: 0.0078. Accuracy: 100.00\n",
            "[535/800]. Loss: 0.0076. Accuracy: 100.00\n",
            "[540/800]. Loss: 0.0074. Accuracy: 100.00\n",
            "[545/800]. Loss: 0.0073. Accuracy: 100.00\n",
            "[550/800]. Loss: 0.0071. Accuracy: 100.00\n",
            "[555/800]. Loss: 0.0070. Accuracy: 100.00\n",
            "[560/800]. Loss: 0.0069. Accuracy: 100.00\n",
            "[565/800]. Loss: 0.0067. Accuracy: 100.00\n",
            "[570/800]. Loss: 0.0066. Accuracy: 100.00\n",
            "[575/800]. Loss: 0.0065. Accuracy: 100.00\n",
            "[580/800]. Loss: 0.0064. Accuracy: 100.00\n",
            "[585/800]. Loss: 0.0063. Accuracy: 100.00\n",
            "[590/800]. Loss: 0.0062. Accuracy: 100.00\n",
            "[595/800]. Loss: 0.0061. Accuracy: 100.00\n",
            "[600/800]. Loss: 0.0060. Accuracy: 100.00\n",
            "[605/800]. Loss: 0.0059. Accuracy: 100.00\n",
            "[610/800]. Loss: 0.0058. Accuracy: 100.00\n",
            "[615/800]. Loss: 0.0057. Accuracy: 100.00\n",
            "[620/800]. Loss: 0.0056. Accuracy: 100.00\n",
            "[625/800]. Loss: 0.0055. Accuracy: 100.00\n",
            "[630/800]. Loss: 0.0054. Accuracy: 100.00\n",
            "[635/800]. Loss: 0.0053. Accuracy: 100.00\n",
            "[640/800]. Loss: 0.0053. Accuracy: 100.00\n",
            "[645/800]. Loss: 0.0052. Accuracy: 100.00\n",
            "[650/800]. Loss: 0.0051. Accuracy: 100.00\n",
            "[655/800]. Loss: 0.0050. Accuracy: 100.00\n",
            "[660/800]. Loss: 0.0050. Accuracy: 100.00\n",
            "[665/800]. Loss: 0.0049. Accuracy: 100.00\n",
            "[670/800]. Loss: 0.0048. Accuracy: 100.00\n",
            "[675/800]. Loss: 0.0048. Accuracy: 100.00\n",
            "[680/800]. Loss: 0.0047. Accuracy: 100.00\n",
            "[685/800]. Loss: 0.0046. Accuracy: 100.00\n",
            "[690/800]. Loss: 0.0046. Accuracy: 100.00\n",
            "[695/800]. Loss: 0.0045. Accuracy: 100.00\n",
            "[700/800]. Loss: 0.0045. Accuracy: 100.00\n",
            "[705/800]. Loss: 0.0044. Accuracy: 100.00\n",
            "[710/800]. Loss: 0.0043. Accuracy: 100.00\n",
            "[715/800]. Loss: 0.0043. Accuracy: 100.00\n",
            "[720/800]. Loss: 0.0042. Accuracy: 100.00\n",
            "[725/800]. Loss: 0.0042. Accuracy: 100.00\n",
            "[730/800]. Loss: 0.0041. Accuracy: 100.00\n",
            "[735/800]. Loss: 0.0041. Accuracy: 100.00\n",
            "[740/800]. Loss: 0.0040. Accuracy: 100.00\n",
            "[745/800]. Loss: 0.0040. Accuracy: 100.00\n",
            "[750/800]. Loss: 0.0040. Accuracy: 100.00\n",
            "[755/800]. Loss: 0.0039. Accuracy: 100.00\n",
            "[760/800]. Loss: 0.0039. Accuracy: 100.00\n",
            "[765/800]. Loss: 0.0038. Accuracy: 100.00\n",
            "[770/800]. Loss: 0.0038. Accuracy: 100.00\n",
            "[775/800]. Loss: 0.0037. Accuracy: 100.00\n",
            "[780/800]. Loss: 0.0037. Accuracy: 100.00\n",
            "[785/800]. Loss: 0.0037. Accuracy: 100.00\n",
            "[790/800]. Loss: 0.0036. Accuracy: 100.00\n",
            "[795/800]. Loss: 0.0036. Accuracy: 100.00\n",
            "[800/800]. Loss: 0.0036. Accuracy: 100.00\n",
            "Final Accuracy: 100.00\n"
          ]
        },
        {
          "output_type": "display_data",
          "data": {
            "text/plain": [
              "<Figure size 640x480 with 1 Axes>"
            ],
            "image/png": "[encoded data removed]"
          },
          "metadata": {}
        }
      ]
    },
    {
      "cell_type": "markdown",
      "metadata": {
        "id": "IE5YlJ_I3NYg"
      },
      "source": [
        "## Digit Classification\n",
        "\n",
        "### Define Digit Classification Network"
      ]
    },
    {
      "cell_type": "code",
      "execution_count": null,
      "metadata": {
        "id": "CI2eUjVG0Ssz",
        "vscode": {
          "languageId": "python"
        }
      },
      "outputs": [],
      "source": [
        "class DigitNetwork(nn.Module):\n",
        "  def __init__(self, hidden_dims = [128]):\n",
        "    super(DigitNetwork, self).__init__()\n",
        "    self.network_dims = [28 * 28] + hidden_dims + [10]\n",
        "    self.layers = [] \n",
        "    for i, dim in enumerate(self.network_dims[1:]):\n",
        "      prev_dim = self.network_dims[i]\n",
        "      dense = nn.Linear(in_features = prev_dim, out_features = dim, bias = True)\n",
        "      if i < len(self.network_dims[1:]) - 1:\n",
        "        activation = nn.Sigmoid() # Hidden Layer \n",
        "      else:\n",
        "        activation = nn.Softmax(dim=1) # Last Layer\n",
        "      self.layers += [dense, activation]\n",
        "    self.layers = nn.ModuleList(self.layers)\n",
        "\n",
        "  def forward(self, x):\n",
        "    size = x.size()\n",
        "    x = x.reshape(size[0], -1) # Flatten images\n",
        "    for layer in self.layers[:-1]:\n",
        "      x = layer(x)\n",
        "    if self.training == False:\n",
        "      x = self.layers[-1](x) \n",
        "    return x"
      ]
    },
    {
      "cell_type": "markdown",
      "metadata": {
        "id": "_JTjiev9CK4K"
      },
      "source": [
        "### Define Data Generator"
      ]
    },
    {
      "cell_type": "code",
      "execution_count": 6,
      "metadata": {
        "id": "FUnVAlP85SGs",
        "vscode": {
          "languageId": "python"
        }
      },
      "outputs": [],
      "source": [
        "def create_data_generator(batch_size = 64, root = \"data\"):\n",
        "  train_dataset = torchvision.datasets.MNIST(root = root,\n",
        "                                             train = True,\n",
        "                                             transform = torchvision.transforms.ToTensor(),\n",
        "                                             download = True)\n",
        "  test_dataset = torchvision.datasets.MNIST(root = root,\n",
        "                                             train = False,\n",
        "                                             transform = torchvision.transforms.ToTensor(),\n",
        "                                             download = True)\n",
        "  train_loader = torch.utils.data.DataLoader(train_dataset,\n",
        "                                             batch_size = batch_size,\n",
        "                                             shuffle = True)\n",
        "  test_loader = torch.utils.data.DataLoader(test_dataset,\n",
        "                                             batch_size = batch_size,\n",
        "                                             shuffle = False)\n",
        "  return train_loader, test_loader"
      ]
    },
    {
      "cell_type": "markdown",
      "metadata": {
        "id": "9AZSB2N3CTFd"
      },
      "source": [
        "### Define the training framework"
      ]
    },
    {
      "cell_type": "code",
      "execution_count": null,
      "metadata": {
        "id": "nDmnwaOT66-S",
        "vscode": {
          "languageId": "python"
        },
        "colab": {
          "base_uri": "https://localhost:8080/"
        },
        "outputId": "57992534-e457-4867-fdab-8c055adce780"
      },
      "outputs": [
        {
          "output_type": "stream",
          "name": "stdout",
          "text": [
            "DigitNetwork(\n",
            "  (layers): ModuleList(\n",
            "    (0): Linear(in_features=784, out_features=10, bias=True)\n",
            "    (1): Softmax(dim=1)\n",
            "  )\n",
            ")\n",
            "Epoch [1/1]. Iter [1/1875]. Loss: 2.32. Accuracy: 6.25\n",
            "Epoch [1/1]. Iter [101/1875]. Loss: 0.17. Accuracy: 93.75\n",
            "Epoch [1/1]. Iter [201/1875]. Loss: 0.47. Accuracy: 87.50\n",
            "Epoch [1/1]. Iter [301/1875]. Loss: 1.35. Accuracy: 84.38\n",
            "Epoch [1/1]. Iter [401/1875]. Loss: 0.34. Accuracy: 93.75\n",
            "Epoch [1/1]. Iter [501/1875]. Loss: 0.23. Accuracy: 93.75\n",
            "Epoch [1/1]. Iter [601/1875]. Loss: 0.57. Accuracy: 93.75\n",
            "Epoch [1/1]. Iter [701/1875]. Loss: 0.28. Accuracy: 93.75\n",
            "Epoch [1/1]. Iter [801/1875]. Loss: 0.40. Accuracy: 90.62\n",
            "Epoch [1/1]. Iter [901/1875]. Loss: 0.09. Accuracy: 96.88\n",
            "Epoch [1/1]. Iter [1001/1875]. Loss: 0.57. Accuracy: 84.38\n",
            "Epoch [1/1]. Iter [1101/1875]. Loss: 1.15. Accuracy: 68.75\n",
            "Epoch [1/1]. Iter [1201/1875]. Loss: 0.72. Accuracy: 81.25\n",
            "Epoch [1/1]. Iter [1301/1875]. Loss: 0.60. Accuracy: 87.50\n",
            "Epoch [1/1]. Iter [1401/1875]. Loss: 0.55. Accuracy: 87.50\n",
            "Epoch [1/1]. Iter [1501/1875]. Loss: 0.41. Accuracy: 90.62\n",
            "Epoch [1/1]. Iter [1601/1875]. Loss: 0.15. Accuracy: 93.75\n",
            "Epoch [1/1]. Iter [1701/1875]. Loss: 0.55. Accuracy: 87.50\n",
            "Epoch [1/1]. Iter [1801/1875]. Loss: 0.25. Accuracy: 93.75\n"
          ]
        }
      ],
      "source": [
        "cuda = torch.cuda.is_available()\n",
        "batch_size = 32\n",
        "train_loader, test_loader = create_data_generator(batch_size)\n",
        "model = DigitNetwork(hidden_dims=[])\n",
        "print(model)\n",
        "if cuda:\n",
        "  model.cuda()\n",
        "n_epochs = 1\n",
        "learning_rate = 0.1\n",
        "optim = torch.optim.SGD(params = model.parameters(), lr = learning_rate, momentum=0.9)\n",
        "loss_fn = nn.CrossEntropyLoss()\n",
        "\n",
        "model.train() \n",
        "for epoch in range(1, n_epochs + 1):\n",
        "  for idx, (images, labels) in enumerate(train_loader):\n",
        "    if cuda:\n",
        "      images = images.cuda()\n",
        "      labels = labels.cuda()\n",
        "      \n",
        "    outputs = model(images)\n",
        "\n",
        "    loss = loss_fn(outputs, labels) \n",
        "\n",
        "    optim.zero_grad()\n",
        "    loss.backward()\n",
        "    optim.step() \n",
        "\n",
        "    predictions = torch.argmax(outputs, 1)\n",
        "    accuracy = (predictions == labels).float().mean() * 100.\n",
        "\n",
        "    loss = loss.item() # Convert to Python Scalar\n",
        "    accuracy = accuracy.item() # Convert to Python Scalar\n",
        "\n",
        "    if idx % 100 == 0:\n",
        "      print(\"Epoch [%d/%d]. Iter [%d/%d]. Loss: %0.2f. Accuracy: %0.2f\" % (epoch, n_epochs, idx + 1, len(train_loader), loss, accuracy))\n",
        "\n",
        "torch.save(model.state_dict(), \"MNIST_Network.pth\")"
      ]
    },
    {
      "cell_type": "markdown",
      "source": [
        "**Question 2a**"
      ],
      "metadata": {
        "id": "l7qpxrZk-DqU"
      }
    },
    {
      "cell_type": "markdown",
      "source": [
        "**Question 2b**"
      ],
      "metadata": {
        "id": "vitFrYGLB9lZ"
      }
    },
    {
      "cell_type": "code",
      "source": [
        "cuda = torch.cuda.is_available()\n",
        "batch_size = 64\n",
        "train_loader, test_loader = create_data_generator(batch_size)\n",
        "model = DigitNetwork(hidden_dims=[8])\n",
        "print(model)\n",
        "total_params = sum(\n",
        "\tparam.numel() for param in model.parameters()\n",
        ")\n",
        "\n",
        "print(\"\\n Model parameters: \", total_params)\n",
        "if cuda:\n",
        "  model.cuda()\n",
        "n_epochs = 10\n",
        "learning_rate = 0.1\n",
        "optim = torch.optim.SGD(params = model.parameters(), lr = learning_rate, momentum=0.9)\n",
        "loss_fn = nn.CrossEntropyLoss()\n",
        "\n",
        "model.train()\n",
        "Losses = []\n",
        "Acc_ies = []\n",
        "iter_time = 0\n",
        "for epoch in range(1, n_epochs + 1):\n",
        "  train_start = timer()\n",
        "  for idx, (images, labels) in enumerate(train_loader):\n",
        "    start_iter = timer()\n",
        "    if cuda:\n",
        "      images = images.cuda()\n",
        "      labels = labels.cuda()\n",
        "      \n",
        "    outputs = model(images)\n",
        "\n",
        "    loss = loss_fn(outputs, labels) \n",
        "\n",
        "    optim.zero_grad()\n",
        "    loss.backward()\n",
        "    optim.step() \n",
        "\n",
        "    predictions = torch.argmax(outputs, 1)\n",
        "    accuracy = (predictions == labels).float().mean() * 100.\n",
        "\n",
        "    loss = loss.item() # Convert to Python Scalar\n",
        "    Losses.append(loss)\n",
        "    accuracy = accuracy.item() # Convert to Python Scalar\n",
        "    Acc_ies.append(accuracy)\n",
        "\n",
        "    if idx % 100 == 0:\n",
        "      print(\"Epoch [%d/%d]. Iter [%d/%d]. Loss: %0.2f. Accuracy: %0.2f\" % (epoch, n_epochs, idx + 1, len(train_loader), loss, accuracy))\n",
        "    end_iter = timer()\n",
        "    iter_time += (end_iter-start_iter)\n",
        "train_end = timer()\n",
        "print(\"Iteration average time: \", timedelta(seconds = iter_time/len(train_loader)))\n",
        "print(\"Training time: \", timedelta(seconds = train_end-train_start))\n",
        "#print(\"Train_loader length: \", len(train_loader))\n",
        "\n",
        "torch.save(model.state_dict(), \"MNIST_Network.pth\")\n",
        "\n",
        "train_final_acc = accuracy\n",
        "print(\"Final Accuracy: %0.2f\" % (train_final_acc))\n",
        "\n",
        "plt.plot(Acc_ies, color='r', label='Training accuracy')\n",
        "plt.plot(Losses, color='g', label='Training loss')\n",
        "plt.xlabel(\"Epoch\")\n",
        "plt.title(\"Training Loss and Accuracy\")\n",
        "plt.legend()\n",
        "plt.show()"
      ],
      "metadata": {
        "colab": {
          "base_uri": "https://localhost:8080/",
          "height": 1000
        },
        "id": "ywUBLPov-EVy",
        "outputId": "380e09df-2a3b-4aac-e52e-5cdb7783837d"
      },
      "execution_count": null,
      "outputs": [
        {
          "output_type": "stream",
          "name": "stdout",
          "text": [
            "DigitNetwork(\n",
            "  (layers): ModuleList(\n",
            "    (0): Linear(in_features=784, out_features=8, bias=True)\n",
            "    (1): Sigmoid()\n",
            "    (2): Linear(in_features=8, out_features=10, bias=True)\n",
            "    (3): Softmax(dim=1)\n",
            "  )\n",
            ")\n",
            "\n",
            " Model parameters:  6370\n",
            "Epoch [1/10]. Iter [1/938]. Loss: 2.41. Accuracy: 9.38\n",
            "Epoch [1/10]. Iter [101/938]. Loss: 0.87. Accuracy: 81.25\n",
            "Epoch [1/10]. Iter [201/938]. Loss: 0.82. Accuracy: 78.12\n",
            "Epoch [1/10]. Iter [301/938]. Loss: 0.55. Accuracy: 85.94\n",
            "Epoch [1/10]. Iter [401/938]. Loss: 0.60. Accuracy: 87.50\n",
            "Epoch [1/10]. Iter [501/938]. Loss: 0.49. Accuracy: 85.94\n",
            "Epoch [1/10]. Iter [601/938]. Loss: 0.31. Accuracy: 89.06\n",
            "Epoch [1/10]. Iter [701/938]. Loss: 0.53. Accuracy: 85.94\n",
            "Epoch [1/10]. Iter [801/938]. Loss: 0.43. Accuracy: 85.94\n",
            "Epoch [1/10]. Iter [901/938]. Loss: 0.23. Accuracy: 95.31\n",
            "Epoch [2/10]. Iter [1/938]. Loss: 0.43. Accuracy: 93.75\n",
            "Epoch [2/10]. Iter [101/938]. Loss: 0.30. Accuracy: 90.62\n",
            "Epoch [2/10]. Iter [201/938]. Loss: 0.36. Accuracy: 90.62\n",
            "Epoch [2/10]. Iter [301/938]. Loss: 0.27. Accuracy: 90.62\n",
            "Epoch [2/10]. Iter [401/938]. Loss: 0.22. Accuracy: 92.19\n",
            "Epoch [2/10]. Iter [501/938]. Loss: 0.30. Accuracy: 90.62\n",
            "Epoch [2/10]. Iter [601/938]. Loss: 0.59. Accuracy: 84.38\n",
            "Epoch [2/10]. Iter [701/938]. Loss: 0.46. Accuracy: 87.50\n",
            "Epoch [2/10]. Iter [801/938]. Loss: 0.32. Accuracy: 90.62\n",
            "Epoch [2/10]. Iter [901/938]. Loss: 0.28. Accuracy: 90.62\n",
            "Epoch [3/10]. Iter [1/938]. Loss: 0.31. Accuracy: 92.19\n",
            "Epoch [3/10]. Iter [101/938]. Loss: 0.32. Accuracy: 90.62\n",
            "Epoch [3/10]. Iter [201/938]. Loss: 0.38. Accuracy: 85.94\n",
            "Epoch [3/10]. Iter [301/938]. Loss: 0.32. Accuracy: 87.50\n",
            "Epoch [3/10]. Iter [401/938]. Loss: 0.34. Accuracy: 92.19\n",
            "Epoch [3/10]. Iter [501/938]. Loss: 0.11. Accuracy: 98.44\n",
            "Epoch [3/10]. Iter [601/938]. Loss: 0.15. Accuracy: 95.31\n",
            "Epoch [3/10]. Iter [701/938]. Loss: 0.28. Accuracy: 92.19\n",
            "Epoch [3/10]. Iter [801/938]. Loss: 0.22. Accuracy: 95.31\n",
            "Epoch [3/10]. Iter [901/938]. Loss: 0.43. Accuracy: 89.06\n",
            "Epoch [4/10]. Iter [1/938]. Loss: 0.41. Accuracy: 89.06\n",
            "Epoch [4/10]. Iter [101/938]. Loss: 0.38. Accuracy: 89.06\n",
            "Epoch [4/10]. Iter [201/938]. Loss: 0.16. Accuracy: 95.31\n",
            "Epoch [4/10]. Iter [301/938]. Loss: 0.35. Accuracy: 90.62\n",
            "Epoch [4/10]. Iter [401/938]. Loss: 0.39. Accuracy: 87.50\n",
            "Epoch [4/10]. Iter [501/938]. Loss: 0.24. Accuracy: 93.75\n",
            "Epoch [4/10]. Iter [601/938]. Loss: 0.42. Accuracy: 82.81\n",
            "Epoch [4/10]. Iter [701/938]. Loss: 0.29. Accuracy: 92.19\n",
            "Epoch [4/10]. Iter [801/938]. Loss: 0.18. Accuracy: 95.31\n",
            "Epoch [4/10]. Iter [901/938]. Loss: 0.36. Accuracy: 89.06\n",
            "Epoch [5/10]. Iter [1/938]. Loss: 0.15. Accuracy: 93.75\n",
            "Epoch [5/10]. Iter [101/938]. Loss: 0.34. Accuracy: 90.62\n",
            "Epoch [5/10]. Iter [201/938]. Loss: 0.26. Accuracy: 93.75\n",
            "Epoch [5/10]. Iter [301/938]. Loss: 0.13. Accuracy: 95.31\n",
            "Epoch [5/10]. Iter [401/938]. Loss: 0.23. Accuracy: 93.75\n",
            "Epoch [5/10]. Iter [501/938]. Loss: 0.13. Accuracy: 92.19\n",
            "Epoch [5/10]. Iter [601/938]. Loss: 0.27. Accuracy: 92.19\n",
            "Epoch [5/10]. Iter [701/938]. Loss: 0.55. Accuracy: 82.81\n",
            "Epoch [5/10]. Iter [801/938]. Loss: 0.32. Accuracy: 95.31\n",
            "Epoch [5/10]. Iter [901/938]. Loss: 0.36. Accuracy: 82.81\n",
            "Epoch [6/10]. Iter [1/938]. Loss: 0.22. Accuracy: 95.31\n",
            "Epoch [6/10]. Iter [101/938]. Loss: 0.34. Accuracy: 89.06\n",
            "Epoch [6/10]. Iter [201/938]. Loss: 0.43. Accuracy: 87.50\n",
            "Epoch [6/10]. Iter [301/938]. Loss: 0.20. Accuracy: 93.75\n",
            "Epoch [6/10]. Iter [401/938]. Loss: 0.25. Accuracy: 95.31\n",
            "Epoch [6/10]. Iter [501/938]. Loss: 0.39. Accuracy: 92.19\n",
            "Epoch [6/10]. Iter [601/938]. Loss: 0.13. Accuracy: 96.88\n",
            "Epoch [6/10]. Iter [701/938]. Loss: 0.42. Accuracy: 87.50\n",
            "Epoch [6/10]. Iter [801/938]. Loss: 0.23. Accuracy: 92.19\n",
            "Epoch [6/10]. Iter [901/938]. Loss: 0.34. Accuracy: 89.06\n",
            "Epoch [7/10]. Iter [1/938]. Loss: 0.22. Accuracy: 95.31\n",
            "Epoch [7/10]. Iter [101/938]. Loss: 0.09. Accuracy: 98.44\n",
            "Epoch [7/10]. Iter [201/938]. Loss: 0.20. Accuracy: 96.88\n",
            "Epoch [7/10]. Iter [301/938]. Loss: 0.15. Accuracy: 96.88\n",
            "Epoch [7/10]. Iter [401/938]. Loss: 0.11. Accuracy: 98.44\n",
            "Epoch [7/10]. Iter [501/938]. Loss: 0.14. Accuracy: 95.31\n",
            "Epoch [7/10]. Iter [601/938]. Loss: 0.36. Accuracy: 84.38\n",
            "Epoch [7/10]. Iter [701/938]. Loss: 0.19. Accuracy: 90.62\n",
            "Epoch [7/10]. Iter [801/938]. Loss: 0.14. Accuracy: 95.31\n",
            "Epoch [7/10]. Iter [901/938]. Loss: 0.18. Accuracy: 93.75\n",
            "Epoch [8/10]. Iter [1/938]. Loss: 0.32. Accuracy: 90.62\n",
            "Epoch [8/10]. Iter [101/938]. Loss: 0.26. Accuracy: 92.19\n",
            "Epoch [8/10]. Iter [201/938]. Loss: 0.27. Accuracy: 93.75\n",
            "Epoch [8/10]. Iter [301/938]. Loss: 0.17. Accuracy: 93.75\n",
            "Epoch [8/10]. Iter [401/938]. Loss: 0.34. Accuracy: 87.50\n",
            "Epoch [8/10]. Iter [501/938]. Loss: 0.21. Accuracy: 93.75\n",
            "Epoch [8/10]. Iter [601/938]. Loss: 0.52. Accuracy: 89.06\n",
            "Epoch [8/10]. Iter [701/938]. Loss: 0.18. Accuracy: 96.88\n",
            "Epoch [8/10]. Iter [801/938]. Loss: 0.11. Accuracy: 98.44\n",
            "Epoch [8/10]. Iter [901/938]. Loss: 0.25. Accuracy: 92.19\n",
            "Epoch [9/10]. Iter [1/938]. Loss: 0.34. Accuracy: 89.06\n",
            "Epoch [9/10]. Iter [101/938]. Loss: 0.51. Accuracy: 87.50\n",
            "Epoch [9/10]. Iter [201/938]. Loss: 0.38. Accuracy: 87.50\n",
            "Epoch [9/10]. Iter [301/938]. Loss: 0.37. Accuracy: 92.19\n",
            "Epoch [9/10]. Iter [401/938]. Loss: 0.12. Accuracy: 95.31\n",
            "Epoch [9/10]. Iter [501/938]. Loss: 0.19. Accuracy: 92.19\n",
            "Epoch [9/10]. Iter [601/938]. Loss: 0.23. Accuracy: 90.62\n",
            "Epoch [9/10]. Iter [701/938]. Loss: 0.35. Accuracy: 89.06\n",
            "Epoch [9/10]. Iter [801/938]. Loss: 0.13. Accuracy: 95.31\n",
            "Epoch [9/10]. Iter [901/938]. Loss: 0.08. Accuracy: 100.00\n",
            "Epoch [10/10]. Iter [1/938]. Loss: 0.21. Accuracy: 93.75\n",
            "Epoch [10/10]. Iter [101/938]. Loss: 0.25. Accuracy: 90.62\n",
            "Epoch [10/10]. Iter [201/938]. Loss: 0.20. Accuracy: 92.19\n",
            "Epoch [10/10]. Iter [301/938]. Loss: 0.45. Accuracy: 90.62\n",
            "Epoch [10/10]. Iter [401/938]. Loss: 0.32. Accuracy: 93.75\n",
            "Epoch [10/10]. Iter [501/938]. Loss: 0.57. Accuracy: 85.94\n",
            "Epoch [10/10]. Iter [601/938]. Loss: 0.32. Accuracy: 92.19\n",
            "Epoch [10/10]. Iter [701/938]. Loss: 0.12. Accuracy: 96.88\n",
            "Epoch [10/10]. Iter [801/938]. Loss: 0.35. Accuracy: 85.94\n",
            "Epoch [10/10]. Iter [901/938]. Loss: 0.13. Accuracy: 96.88\n",
            "Iteration average time:  0:00:00.011895\n",
            "Training time:  0:00:09.369411\n",
            "Final Accuracy: 87.50\n"
          ]
        },
        {
          "output_type": "display_data",
          "data": {
            "text/plain": [
              "<Figure size 640x480 with 1 Axes>"
            ],
            "image/png": "[encoded data removed]"
          },
          "metadata": {}
        }
      ]
    },
    {
      "cell_type": "markdown",
      "source": [
        "**Question 2c**"
      ],
      "metadata": {
        "id": "El9TUuv7ZRYn"
      }
    },
    {
      "cell_type": "code",
      "source": [
        "#Final accuracy\n",
        "print(\"Final train Accuracy: %0.2f\" % (train_final_acc))\n",
        "\n",
        "cuda = torch.cuda.is_available() \n",
        "batch_size = 64 \n",
        "train_loader, test_loader = create_data_generator(batch_size) \n",
        "#model = DigitNetwork()\n",
        "model = DigitNetwork(hidden_dims=[8])\n",
        "\n",
        "if cuda:\n",
        "   model.cuda() \n",
        "\n",
        "model.eval() \n",
        "model.load_state_dict(torch.load(\"MNIST_Network.pth\")) \n",
        "total_accuracy = 0.0 \n",
        "for idx, (images, labels) in enumerate(test_loader): \n",
        "  start = timer()\n",
        "  if cuda: \n",
        "    images = images.cuda() \n",
        "    labels = labels.cuda() \n",
        "  outputs = model(images) \n",
        "  predictions = torch.argmax(outputs, 1) \n",
        "  accuracy = (predictions == labels).float().mean() * 100. \n",
        "  accuracy = accuracy.item() # Convert to Python Scalar \n",
        "  total_accuracy += accuracy \n",
        "  if idx % 2000 == 0: \n",
        "    print(\"Iter [%d/%d]. Accuracy: %0.2f\" % (idx + 1, len(test_loader), accuracy)) \n",
        "    print(\"Final Accuracy: %0.2f\" % (total_accuracy / len(test_loader)))\n",
        "  end = timer()\n",
        "print(\"Testing time for one batch: \", timedelta(seconds = end-start))\n",
        "print(\"\\nConfusion matrix for last batch:\\n\", confusion_matrix(labels.cpu(), predictions.cpu()))"
      ],
      "metadata": {
        "colab": {
          "base_uri": "https://localhost:8080/"
        },
        "id": "xAq4b3ngG4fv",
        "outputId": "31c92d35-27a9-4bc6-eeeb-be2183aab98e"
      },
      "execution_count": null,
      "outputs": [
        {
          "output_type": "stream",
          "name": "stdout",
          "text": [
            "Final train Accuracy: 87.50\n",
            "Iter [1/157]. Accuracy: 95.31\n",
            "Final Accuracy: 0.61\n",
            "Testing time for one batch:  0:00:00.000394\n",
            "\n",
            "Confusion matrix for last batch:\n",
            " [[1 0 0 0 0 0 0 0 0 0]\n",
            " [0 2 0 0 0 0 0 0 0 0]\n",
            " [0 0 2 0 0 0 0 0 0 0]\n",
            " [0 0 0 2 0 0 0 0 0 0]\n",
            " [0 0 0 0 2 0 0 0 0 0]\n",
            " [0 0 0 0 0 2 0 0 0 0]\n",
            " [0 0 0 0 0 0 2 0 0 0]\n",
            " [0 0 0 0 0 0 0 1 0 0]\n",
            " [0 0 0 0 0 0 0 0 1 0]\n",
            " [0 0 0 0 0 0 0 0 0 1]]\n"
          ]
        }
      ]
    },
    {
      "cell_type": "markdown",
      "source": [
        "**Question 2d: visualizing correctly predicted samples** "
      ],
      "metadata": {
        "id": "1sHheE2J2P7C"
      }
    },
    {
      "cell_type": "code",
      "source": [
        "check_corr = 0\n",
        "for idx, prediction in enumerate (predictions):\n",
        "  if predictions[idx] == labels[idx]:\n",
        "    plt.subplot(2,5, idx+1 )\n",
        "    plt.title(\"Picture: %d\" %(idx+1))\n",
        "    plt.imshow(images[idx].reshape(28,28), cmap=pyplot.get_cmap('gray'))\n",
        "    plt.show()\n",
        "    prob = outputs[idx, predictions[idx]].item() * 100\n",
        "    print(\"Original label: \", labels[idx].item())\n",
        "    print(\"Predicted label: \", predictions[idx].item())\n",
        "    print(\"Confidence level is: %.2f%%\" %(prob))\n",
        "    print()\n",
        "    check_corr +=1 \n",
        "    if check_corr == 10:\n",
        "      break"
      ],
      "metadata": {
        "id": "soxPiR1Vj2ZR",
        "colab": {
          "base_uri": "https://localhost:8080/",
          "height": 1000
        },
        "outputId": "37ba4799-3027-4fc1-e7e7-8f6cff7cc7c7"
      },
      "execution_count": null,
      "outputs": [
        {
          "output_type": "display_data",
          "data": {
            "text/plain": [
              "<Figure size 640x480 with 1 Axes>"
            ],
            "image/png": "[encoded data removed]"
          },
          "metadata": {}
        },
        {
          "output_type": "stream",
          "name": "stdout",
          "text": [
            "Original label:  1\n",
            "Predicted label:  1\n",
            "Confidence level is: 99.49%\n",
            "\n"
          ]
        },
        {
          "output_type": "display_data",
          "data": {
            "text/plain": [
              "<Figure size 640x480 with 1 Axes>"
            ],
            "image/png": "[encoded data removed]"
          },
          "metadata": {}
        },
        {
          "output_type": "stream",
          "name": "stdout",
          "text": [
            "Original label:  2\n",
            "Predicted label:  2\n",
            "Confidence level is: 48.01%\n",
            "\n"
          ]
        },
        {
          "output_type": "display_data",
          "data": {
            "text/plain": [
              "<Figure size 640x480 with 1 Axes>"
            ],
            "image/png": "[encoded data removed]"
          },
          "metadata": {}
        },
        {
          "output_type": "stream",
          "name": "stdout",
          "text": [
            "Original label:  3\n",
            "Predicted label:  3\n",
            "Confidence level is: 84.05%\n",
            "\n"
          ]
        },
        {
          "output_type": "display_data",
          "data": {
            "text/plain": [
              "<Figure size 640x480 with 1 Axes>"
            ],
            "image/png": "[encoded data removed]"
          },
          "metadata": {}
        },
        {
          "output_type": "stream",
          "name": "stdout",
          "text": [
            "Original label:  4\n",
            "Predicted label:  4\n",
            "Confidence level is: 98.35%\n",
            "\n"
          ]
        },
        {
          "output_type": "display_data",
          "data": {
            "text/plain": [
              "<Figure size 640x480 with 1 Axes>"
            ],
            "image/png": "[encoded data removed]"
          },
          "metadata": {}
        },
        {
          "output_type": "stream",
          "name": "stdout",
          "text": [
            "Original label:  5\n",
            "Predicted label:  5\n",
            "Confidence level is: 95.54%\n",
            "\n"
          ]
        },
        {
          "output_type": "display_data",
          "data": {
            "text/plain": [
              "<Figure size 640x480 with 1 Axes>"
            ],
            "image/png": "[encoded data removed]"
          },
          "metadata": {}
        },
        {
          "output_type": "stream",
          "name": "stdout",
          "text": [
            "Original label:  6\n",
            "Predicted label:  6\n",
            "Confidence level is: 99.90%\n",
            "\n"
          ]
        },
        {
          "output_type": "display_data",
          "data": {
            "text/plain": [
              "<Figure size 640x480 with 1 Axes>"
            ],
            "image/png": "[encoded data removed]"
          },
          "metadata": {}
        },
        {
          "output_type": "stream",
          "name": "stdout",
          "text": [
            "Original label:  7\n",
            "Predicted label:  7\n",
            "Confidence level is: 99.86%\n",
            "\n"
          ]
        },
        {
          "output_type": "display_data",
          "data": {
            "text/plain": [
              "<Figure size 640x480 with 1 Axes>"
            ],
            "image/png": "[encoded data removed]"
          },
          "metadata": {}
        },
        {
          "output_type": "stream",
          "name": "stdout",
          "text": [
            "Original label:  8\n",
            "Predicted label:  8\n",
            "Confidence level is: 55.61%\n",
            "\n"
          ]
        },
        {
          "output_type": "display_data",
          "data": {
            "text/plain": [
              "<Figure size 640x480 with 1 Axes>"
            ],
            "image/png": "[encoded data removed]"
          },
          "metadata": {}
        },
        {
          "output_type": "stream",
          "name": "stdout",
          "text": [
            "Original label:  9\n",
            "Predicted label:  9\n",
            "Confidence level is: 85.19%\n",
            "\n"
          ]
        },
        {
          "output_type": "display_data",
          "data": {
            "text/plain": [
              "<Figure size 640x480 with 1 Axes>"
            ],
            "image/png": "[encoded data removed]"
          },
          "metadata": {}
        },
        {
          "output_type": "stream",
          "name": "stdout",
          "text": [
            "Original label:  0\n",
            "Predicted label:  0\n",
            "Confidence level is: 96.74%\n",
            "\n"
          ]
        }
      ]
    },
    {
      "cell_type": "markdown",
      "source": [
        "**Question 2d: visualizing incorrectly predicted samples**"
      ],
      "metadata": {
        "id": "yE8KotY9L5xj"
      }
    },
    {
      "cell_type": "code",
      "source": [
        "check_incorr = 0\n",
        "for idx, prediction in enumerate (predictions):\n",
        "  if predictions[idx] != labels[idx]:\n",
        "    prob = outputs[idx, predictions[idx]].item() * 100\n",
        "    plt.subplot(2,5, idx+1 )\n",
        "    plt.title(\"Picture: %d\" %(idx+1))\n",
        "    plt.imshow(images[idx].reshape(28,28), cmap=pyplot.get_cmap('gray'))\n",
        "    plt.show()\n",
        "    print(\"Original label: \", labels[idx].item())\n",
        "    print(\"Predicted label: \", predictions[idx].item())\n",
        "    print(\"Confidence level is: %.2f%%\" %(prob))\n",
        "    print()\n",
        "    check_corr +=1 \n",
        "    if check_incorr == 10:\n",
        "      break\n",
        "if check_incorr == 0:\n",
        "  print(\"No incorrect predictions!\")"
      ],
      "metadata": {
        "colab": {
          "base_uri": "https://localhost:8080/"
        },
        "id": "Busl5I5_HdL7",
        "outputId": "f52c7739-497a-478d-c84e-67b90beeeed2"
      },
      "execution_count": null,
      "outputs": [
        {
          "output_type": "stream",
          "name": "stdout",
          "text": [
            "No incorrect predictions!\n"
          ]
        }
      ]
    },
    {
      "cell_type": "code",
      "source": [
        "outputs.shape"
      ],
      "metadata": {
        "colab": {
          "base_uri": "https://localhost:8080/"
        },
        "id": "pwz4U6f0_0OY",
        "outputId": "7b92732a-9c1b-45b0-b52d-1b1e5988ccc4"
      },
      "execution_count": null,
      "outputs": [
        {
          "output_type": "execute_result",
          "data": {
            "text/plain": [
              "torch.Size([16, 10])"
            ]
          },
          "metadata": {},
          "execution_count": 71
        }
      ]
    },
    {
      "cell_type": "code",
      "source": [
        "for idx, prediction in enumerate (predictions):\n",
        "  #plt.imshow(images[idx].reshape(28,28))\n",
        "  #print(\"idx: \", idx)\n",
        "  if predictions[idx] == labels[idx]:\n",
        "    #plt.imshow(images[idx].reshape(28,28))\n",
        "    pyplot.subplot(2,5, i+1)\n",
        "    pyplot.imshow(images[idx].reshape(28,28), cmap=pyplot.get_cmap('gray'))\n",
        "    pyplot.show()"
      ],
      "metadata": {
        "colab": {
          "base_uri": "https://localhost:8080/",
          "height": 1000
        },
        "id": "lwmZYYGu9pbO",
        "outputId": "4e949974-acb9-4597-ae41-af66ad533e89"
      },
      "execution_count": null,
      "outputs": [
        {
          "output_type": "display_data",
          "data": {
            "text/plain": [
              "<Figure size 640x480 with 1 Axes>"
            ],
            "image/png": "[encoded data removed]"
          },
          "metadata": {}
        },
        {
          "output_type": "display_data",
          "data": {
            "text/plain": [
              "<Figure size 640x480 with 1 Axes>"
            ],
            "image/png": "[encoded data removed]"
          },
          "metadata": {}
        },
        {
          "output_type": "display_data",
          "data": {
            "text/plain": [
              "<Figure size 640x480 with 1 Axes>"
            ],
            "image/png": "[encoded data removed]"
          },
          "metadata": {}
        },
        {
          "output_type": "display_data",
          "data": {
            "text/plain": [
              "<Figure size 640x480 with 1 Axes>"
            ],
            "image/png": "[encoded data removed]"
          },
          "metadata": {}
        },
        {
          "output_type": "display_data",
          "data": {
            "text/plain": [
              "<Figure size 640x480 with 1 Axes>"
            ],
            "image/png": "[encoded data removed]"
          },
          "metadata": {}
        },
        {
          "output_type": "display_data",
          "data": {
            "text/plain": [
              "<Figure size 640x480 with 1 Axes>"
            ],
            "image/png": "[encoded data removed]"
          },
          "metadata": {}
        },
        {
          "output_type": "display_data",
          "data": {
            "text/plain": [
              "<Figure size 640x480 with 1 Axes>"
            ],
            "image/png": "[encoded data removed]"
          },
          "metadata": {}
        },
        {
          "output_type": "display_data",
          "data": {
            "text/plain": [
              "<Figure size 640x480 with 1 Axes>"
            ],
            "image/png": "[encoded data removed]"
          },
          "metadata": {}
        },
        {
          "output_type": "display_data",
          "data": {
            "text/plain": [
              "<Figure size 640x480 with 1 Axes>"
            ],
            "image/png": "[encoded data removed]"
          },
          "metadata": {}
        },
        {
          "output_type": "display_data",
          "data": {
            "text/plain": [
              "<Figure size 640x480 with 1 Axes>"
            ],
            "image/png": "[encoded data removed]"
          },
          "metadata": {}
        },
        {
          "output_type": "display_data",
          "data": {
            "text/plain": [
              "<Figure size 640x480 with 1 Axes>"
            ],
            "image/png": "[encoded data removed]"
          },
          "metadata": {}
        },
        {
          "output_type": "display_data",
          "data": {
            "text/plain": [
              "<Figure size 640x480 with 1 Axes>"
            ],
            "image/png": "[encoded data removed]"
          },
          "metadata": {}
        },
        {
          "output_type": "display_data",
          "data": {
            "text/plain": [
              "<Figure size 640x480 with 1 Axes>"
            ],
            "image/png": "[encoded data removed]"
          },
          "metadata": {}
        },
        {
          "output_type": "display_data",
          "data": {
            "text/plain": [
              "<Figure size 640x480 with 1 Axes>"
            ],
            "image/png": "[encoded data removed]"
          },
          "metadata": {}
        },
        {
          "output_type": "display_data",
          "data": {
            "text/plain": [
              "<Figure size 640x480 with 1 Axes>"
            ],
            "image/png": "[encoded data removed]"
          },
          "metadata": {}
        },
        {
          "output_type": "display_data",
          "data": {
            "text/plain": [
              "<Figure size 640x480 with 1 Axes>"
            ],
            "image/png": "[encoded data removed]"
          },
          "metadata": {}
        }
      ]
    },
    {
      "cell_type": "code",
      "source": [
        "from matplotlib import pyplot\n",
        "for i in range(9):  \n",
        "  pyplot.subplot(330 + 1 + i)\n",
        "  pyplot.imshow(images[i].reshape(28,28), cmap=pyplot.get_cmap('gray'))\n",
        "  pyplot.show()"
      ],
      "metadata": {
        "colab": {
          "base_uri": "https://localhost:8080/",
          "height": 1000
        },
        "id": "KA9xLeGjDDtZ",
        "outputId": "c0684f60-a8b6-4a49-bd85-1b7491bbdc4a"
      },
      "execution_count": null,
      "outputs": [
        {
          "output_type": "display_data",
          "data": {
            "text/plain": [
              "<Figure size 640x480 with 1 Axes>"
            ],
            "image/png": "[encoded data removed]"
          },
          "metadata": {}
        },
        {
          "output_type": "display_data",
          "data": {
            "text/plain": [
              "<Figure size 640x480 with 1 Axes>"
            ],
            "image/png": "[encoded data removed]"
          },
          "metadata": {}
        },
        {
          "output_type": "display_data",
          "data": {
            "text/plain": [
              "<Figure size 640x480 with 1 Axes>"
            ],
            "image/png": "[encoded data removed]"
          },
          "metadata": {}
        },
        {
          "output_type": "display_data",
          "data": {
            "text/plain": [
              "<Figure size 640x480 with 1 Axes>"
            ],
            "image/png": "[encoded data removed]"
          },
          "metadata": {}
        },
        {
          "output_type": "display_data",
          "data": {
            "text/plain": [
              "<Figure size 640x480 with 1 Axes>"
            ],
            "image/png": "[encoded data removed]"
          },
          "metadata": {}
        },
        {
          "output_type": "display_data",
          "data": {
            "text/plain": [
              "<Figure size 640x480 with 1 Axes>"
            ],
            "image/png": "[encoded data removed]"
          },
          "metadata": {}
        },
        {
          "output_type": "display_data",
          "data": {
            "text/plain": [
              "<Figure size 640x480 with 1 Axes>"
            ],
            "image/png": "[encoded data removed]"
          },
          "metadata": {}
        },
        {
          "output_type": "display_data",
          "data": {
            "text/plain": [
              "<Figure size 640x480 with 1 Axes>"
            ],
            "image/png": "[encoded data removed]"
          },
          "metadata": {}
        },
        {
          "output_type": "display_data",
          "data": {
            "text/plain": [
              "<Figure size 640x480 with 1 Axes>"
            ],
            "image/png": "[encoded data removed]"
          },
          "metadata": {}
        }
      ]
    },
    {
      "cell_type": "markdown",
      "source": [],
      "metadata": {
        "id": "sh1ekBZoZFEs"
      }
    },
    {
      "cell_type": "markdown",
      "metadata": {
        "id": "3_nZTwv1CbGl"
      },
      "source": [
        "### Define the evaluation framework"
      ]
    },
    {
      "cell_type": "code",
      "execution_count": null,
      "metadata": {
        "colab": {
          "base_uri": "https://localhost:8080/"
        },
        "id": "GLbEk4QZ6_4K",
        "outputId": "60855dec-47cd-4490-88a6-f83385b4bdbf",
        "vscode": {
          "languageId": "python"
        }
      },
      "outputs": [
        {
          "name": "stdout",
          "output_type": "stream",
          "text": [
            "Iter [1/10000]. Accuracy: 100.00\n",
            "Iter [2001/10000]. Accuracy: 100.00\n",
            "Iter [4001/10000]. Accuracy: 0.00\n",
            "Iter [6001/10000]. Accuracy: 100.00\n",
            "Iter [8001/10000]. Accuracy: 100.00\n",
            "Final Accuracy: 90.94\n"
          ]
        }
      ],
      "source": [
        "cuda = torch.cuda.is_available()\n",
        "batch_size = 1\n",
        "train_loader, test_loader = create_data_generator(batch_size)\n",
        "model = DigitNetwork(hidden_dims=[])\n",
        "if cuda:\n",
        "  model.cuda()\n",
        "model.eval()\n",
        "model.load_state_dict(torch.load(\"MNIST_Network.pth\"))\n",
        "\n",
        "total_accuracy = 0.0 \n",
        "for idx, (images, labels) in enumerate(test_loader):\n",
        "  if cuda:\n",
        "    images = images.cuda()\n",
        "    labels = labels.cuda()\n",
        "    \n",
        "  outputs = model(images)\n",
        "\n",
        "  predictions = torch.argmax(outputs, 1)\n",
        "  accuracy = (predictions == labels).float().mean() * 100.\n",
        "\n",
        "  accuracy = accuracy.item() # Convert to Python Scalar\n",
        "\n",
        "  total_accuracy += accuracy\n",
        "\n",
        "  if idx % 2000 == 0:\n",
        "    print(\"Iter [%d/%d]. Accuracy: %0.2f\" % (idx + 1, len(test_loader), accuracy))\n",
        "\n",
        "print(\"Final Accuracy: %0.2f\" % (total_accuracy / len(test_loader)))"
      ]
    },
    {
      "cell_type": "markdown",
      "metadata": {
        "id": "Wmpi69Q-bzDj"
      },
      "source": [
        "## Backpropagation\n",
        "\n",
        "### ReLU Example"
      ]
    },
    {
      "cell_type": "code",
      "execution_count": null,
      "metadata": {
        "id": "EWoO_sciAqDa",
        "vscode": {
          "languageId": "python"
        }
      },
      "outputs": [],
      "source": [
        "# https://pytorch.org/tutorials/beginner/pytorch_with_examples.html#pytorch-defining-new-autograd-functions\n",
        "class MyReLU(torch.autograd.Function):\n",
        "    \"\"\"\n",
        "    We can implement our own custom autograd Functions by subclassing\n",
        "    torch.autograd.Function and implementing the forward and backward passes\n",
        "    which operate on Tensors.\n",
        "    \"\"\"\n",
        "\n",
        "    @staticmethod\n",
        "    def forward(ctx, input):\n",
        "        \"\"\"\n",
        "        In the forward pass we receive a Tensor containing the input and return\n",
        "        a Tensor containing the output. ctx is a context object that can be used\n",
        "        to stash information for backward computation. You can cache arbitrary\n",
        "        objects for use in the backward pass using the ctx.save_for_backward method.\n",
        "        \"\"\"\n",
        "        ctx.save_for_backward(input)\n",
        "        return input.clamp(min=0)\n",
        "\n",
        "    @staticmethod\n",
        "    def backward(ctx, grad_output):\n",
        "        \"\"\"\n",
        "        In the backward pass we receive a Tensor containing the gradient of the loss\n",
        "        with respect to the output, and we need to compute the gradient of the loss\n",
        "        with respect to the input.\n",
        "        \"\"\"\n",
        "        input, = ctx.saved_tensors\n",
        "        grad_input = grad_output.clone()\n",
        "        grad_input[input < 0] = 0\n",
        "        return grad_input"
      ]
    },
    {
      "cell_type": "markdown",
      "metadata": {
        "id": "2sJY_Gnvb7wP"
      },
      "source": [
        "#### Sigmoid Function\n"
      ]
    },
    {
      "cell_type": "code",
      "execution_count": null,
      "metadata": {
        "id": "bj3ac-EVRvMz",
        "vscode": {
          "languageId": "python"
        }
      },
      "outputs": [],
      "source": [
        "class MySigmoid(torch.autograd.Function):\n",
        "    \"\"\"\n",
        "    We can implement our own custom autograd Functions by subclassing\n",
        "    torch.autograd.Function and implementing the forward and backward passes\n",
        "    which operate on Tensors.\n",
        "    \"\"\"\n",
        "\n",
        "    @staticmethod\n",
        "    def forward(ctx, input):\n",
        "        # input is a N x C tensor, N is the batch size, C is the dimension of input\n",
        "        ctx.save_for_backward(input)\n",
        "        # YOUR CODE HERE\n",
        "        sigmoid_act =  1 / (1 + torch.exp(-input))\n",
        "        return sigmoid_act\n",
        "        # return output of sigmoid function\n",
        "        \n",
        "    @staticmethod\n",
        "    def backward(ctx, grad_output):\n",
        "        input, = ctx.saved_tensors\n",
        "        # YOUR CODE HERE\n",
        "        sigmoid_act =  1 / (1 + torch.exp(-input))\n",
        "        grad_input = grad_output*sigmoid_act * (1 - sigmoid_act) \n",
        "        return grad_input\n",
        "        # YOUR CODE HERE\n",
        "        # return grad_input"
      ]
    },
    {
      "cell_type": "markdown",
      "source": [
        "**Question 3a**"
      ],
      "metadata": {
        "id": "JzZn4hMo5Mpz"
      }
    },
    {
      "cell_type": "code",
      "source": [
        "class MySigmoid(torch.autograd.Function):\n",
        "    \"\"\"\n",
        "    We can implement our own custom autograd Functions by subclassing\n",
        "    torch.autograd.Function and implementing the forward and backward passes\n",
        "    which operate on Tensors.\n",
        "    \"\"\"\n",
        "\n",
        "    @staticmethod\n",
        "    def forward(ctx, input):\n",
        "        # input is a N x C tensor, N is the batch size, C is the dimension of input\n",
        "        ctx.save_for_backward(input)\n",
        "        # YOUR CODE HERE\n",
        "        sigmoid_act =  1 / (1 + torch.exp(-input))\n",
        "        return sigmoid_act\n",
        "        # return output of sigmoid function\n",
        "        \n",
        "    @staticmethod\n",
        "    def backward(ctx, grad_output):\n",
        "        input, = ctx.saved_tensors\n",
        "        # YOUR CODE HERE\n",
        "        sigmoid_act =  1 / (1 + torch.exp(-input))\n",
        "        grad_input = grad_output*sigmoid_act * (1 - sigmoid_act) \n",
        "        return grad_input\n",
        "        # YOUR CODE HERE\n",
        "        # return grad_input"
      ],
      "metadata": {
        "id": "2PC8j1r45JS8"
      },
      "execution_count": 2,
      "outputs": []
    },
    {
      "cell_type": "markdown",
      "metadata": {
        "id": "VgjRo-W1b_CD"
      },
      "source": [
        "#### Fully Connected Layer"
      ]
    },
    {
      "cell_type": "markdown",
      "source": [],
      "metadata": {
        "id": "-w_A6jwq7hfT"
      }
    },
    {
      "cell_type": "code",
      "execution_count": 5,
      "metadata": {
        "id": "iyxyWGNaXvG_",
        "vscode": {
          "languageId": "python"
        }
      },
      "outputs": [],
      "source": [
        "class MyLinearFunction(torch.autograd.Function):\n",
        "    \"\"\"\n",
        "    We can implement our own custom autograd Functions by subclassing\n",
        "    torch.autograd.Function and implementing the forward and backward passes\n",
        "    which operate on Tensors.\n",
        "    \"\"\"\n",
        "\n",
        "    @staticmethod\n",
        "    def forward(ctx, input, weights, bias):\n",
        "        # input is a N x C tensor, N is the batch size, C is the dimension of input\n",
        "        # weights is a C x D tensor, C and D are the dimension out input and ouput\n",
        "        # bias is D tensor\n",
        "        ctx.save_for_backward(input, weights, bias)\n",
        "        \"\"\"\n",
        "        # YOUR CODE HERE\n",
        "        output = input.mm(weights.t())\n",
        "        if bias is not None:\n",
        "            output += bias.unsqueeze(0).expand_as(output)\n",
        "        return output\n",
        "        # YOUR CODE HERE\n",
        "        #x = torch.dot(input, weights)+bias\n",
        "        #return x\n",
        "        \"\"\"\n",
        "        # return output of linear function\n",
        "        return torch.matmul(input, weights) + bias\n",
        "        \n",
        "    @staticmethod\n",
        "    def backward(ctx, grad_output):\n",
        "        input, weights, bias = ctx.saved_tensors\n",
        "        # YOUR CODE HERE\n",
        "        \"\"\"\n",
        "        if ctx.needs_input_grad[0]:\n",
        "            grad_input = grad_output.mm(weights)\n",
        "        if ctx.needs_input_grad[1]:\n",
        "            grad_weights = grad_output.t().mm(input)\n",
        "        if bias is not None and ctx.needs_input_grad[2]:\n",
        "            grad_bias = grad_output.sum(0)\n",
        "        \"\"\"\n",
        "        \n",
        "        return grad_input, grad_weights, grad_bias\n",
        "        # YOUR CODE HERE\n",
        "        # return grad_input, grad_weights, grad_bias\n",
        "\n",
        "class MyLinearLayer(nn.Module):\n",
        "  # You don't modify this layer\n",
        "  def __init__(self, in_features = 2, out_features = 4):\n",
        "    super(MyLinearLayer, self).__init__()\n",
        "    self.weights = nn.Parameter(torch.randn(in_features, out_features))\n",
        "    self.bias = nn.Parameter(torch.zeros(out_features))\n",
        "    self.linear_fn = MyLinearFunction.apply\n",
        "\n",
        "  def forward(self, input):\n",
        "    return self.linear_fn(input, self.weights, self.bias)\n"
      ]
    },
    {
      "cell_type": "markdown",
      "source": [
        "**Question 3b**"
      ],
      "metadata": {
        "id": "lEC3Knte7lUO"
      }
    },
    {
      "cell_type": "code",
      "source": [
        "class MyLinearFunction(torch.autograd.Function):\n",
        "    \"\"\"\n",
        "    We can implement our own custom autograd Functions by subclassing\n",
        "    torch.autograd.Function and implementing the forward and backward passes\n",
        "    which operate on Tensors.\n",
        "    \"\"\"\n",
        "\n",
        "    @staticmethod\n",
        "    def forward(ctx, input, weights, bias):\n",
        "        # input is a N x C tensor, N is the batch size, C is the dimension of input\n",
        "        # weights is a C x D tensor, C and D are the dimension out input and ouput\n",
        "        # bias is D tensor\n",
        "        ctx.save_for_backward(input, weights, bias)\n",
        "        \"\"\"\n",
        "        # YOUR CODE HERE\n",
        "        output = input.mm(weights.t())\n",
        "        if bias is not None:\n",
        "            output += bias.unsqueeze(0).expand_as(output)\n",
        "        return output\n",
        "        # YOUR CODE HERE\n",
        "        #x = torch.dot(input, weights)+bias\n",
        "        #return x\n",
        "        \"\"\"\n",
        "        # return output of linear function\n",
        "        return torch.matmul(input, weights) + bias\n",
        "        \n",
        "    @staticmethod\n",
        "    def backward(ctx, grad_output):\n",
        "        input, weights, bias = ctx.saved_tensors\n",
        "        # YOUR CODE HERE\n",
        "        grad_input = grad_output.mm(weights.t())\n",
        "        grad_weights = grad_output.t().mm(input)\n",
        "        grad_bias = grad_output.sum(0)\n",
        "        \n",
        "        return grad_input, grad_weights.t(), grad_bias\n",
        "        # YOUR CODE HERE\n",
        "        # return grad_input, grad_weights, grad_bias\n",
        "\n",
        "class MyLinearLayer(nn.Module):\n",
        "  # You don't modify this layer\n",
        "  def __init__(self, in_features = 2, out_features = 4):\n",
        "    super(MyLinearLayer, self).__init__()\n",
        "    self.weights = nn.Parameter(torch.randn(in_features, out_features))\n",
        "    self.bias = nn.Parameter(torch.zeros(out_features))\n",
        "    self.linear_fn = MyLinearFunction.apply\n",
        "\n",
        "  def forward(self, input):\n",
        "    return self.linear_fn(input, self.weights, self.bias)\n"
      ],
      "metadata": {
        "id": "2qakj7SL7jst"
      },
      "execution_count": 19,
      "outputs": []
    },
    {
      "cell_type": "markdown",
      "metadata": {
        "id": "AUjXs20ecGBG"
      },
      "source": [
        "#### Testing Your Implementation"
      ]
    },
    {
      "cell_type": "code",
      "execution_count": 20,
      "metadata": {
        "id": "95fQHamjZMX1",
        "vscode": {
          "languageId": "python"
        }
      },
      "outputs": [],
      "source": [
        "class MyLinearNetwork(nn.Module):\n",
        "  def __init__(self):\n",
        "    super(MyLinearNetwork, self).__init__()\n",
        "    self.linear_1 = MyLinearLayer(28 * 28, 128)\n",
        "    self.sigmoid_fn = MySigmoid.apply\n",
        "    self.linear_2 = MyLinearLayer(128, 10)\n",
        "    self.softmax_fn = nn.Softmax(dim=1)\n",
        "\n",
        "  def forward(self, x):\n",
        "    size = x.size()\n",
        "    x = x.reshape(size[0], -1) # Flatten images\n",
        "    x = self.linear_1(x)\n",
        "    x = self.sigmoid_fn(x)\n",
        "    x = self.linear_2(x)\n",
        "    if self.training == False:\n",
        "      x = self.softmax_fn(x)\n",
        "    return x "
      ]
    },
    {
      "cell_type": "code",
      "execution_count": 22,
      "metadata": {
        "id": "h-PND4sBcwgM",
        "vscode": {
          "languageId": "python"
        },
        "colab": {
          "base_uri": "https://localhost:8080/"
        },
        "outputId": "b129c53f-8921-471a-d997-83ac974fb952"
      },
      "outputs": [
        {
          "output_type": "stream",
          "name": "stdout",
          "text": [
            "MyLinearNetwork(\n",
            "  (linear_1): MyLinearLayer()\n",
            "  (linear_2): MyLinearLayer()\n",
            "  (softmax_fn): Softmax(dim=1)\n",
            ")\n",
            "Epoch [1/3]. Iter [1/1875]. Loss: 10.19. Accuracy: 12.50\n",
            "Epoch [1/3]. Iter [101/1875]. Loss: 1.07. Accuracy: 81.25\n",
            "Epoch [1/3]. Iter [201/1875]. Loss: 0.64. Accuracy: 81.25\n",
            "Epoch [1/3]. Iter [301/1875]. Loss: 0.94. Accuracy: 78.12\n",
            "Epoch [1/3]. Iter [401/1875]. Loss: 0.78. Accuracy: 87.50\n",
            "Epoch [1/3]. Iter [501/1875]. Loss: 0.49. Accuracy: 87.50\n",
            "Epoch [1/3]. Iter [601/1875]. Loss: 1.10. Accuracy: 81.25\n",
            "Epoch [1/3]. Iter [701/1875]. Loss: 0.10. Accuracy: 93.75\n",
            "Epoch [1/3]. Iter [801/1875]. Loss: 0.20. Accuracy: 90.62\n",
            "Epoch [1/3]. Iter [901/1875]. Loss: 0.36. Accuracy: 90.62\n",
            "Epoch [1/3]. Iter [1001/1875]. Loss: 0.18. Accuracy: 93.75\n",
            "Epoch [1/3]. Iter [1101/1875]. Loss: 0.20. Accuracy: 90.62\n",
            "Epoch [1/3]. Iter [1201/1875]. Loss: 0.26. Accuracy: 87.50\n",
            "Epoch [1/3]. Iter [1301/1875]. Loss: 0.13. Accuracy: 96.88\n",
            "Epoch [1/3]. Iter [1401/1875]. Loss: 0.15. Accuracy: 96.88\n",
            "Epoch [1/3]. Iter [1501/1875]. Loss: 0.34. Accuracy: 90.62\n",
            "Epoch [1/3]. Iter [1601/1875]. Loss: 0.54. Accuracy: 81.25\n",
            "Epoch [1/3]. Iter [1701/1875]. Loss: 0.10. Accuracy: 96.88\n",
            "Epoch [1/3]. Iter [1801/1875]. Loss: 0.09. Accuracy: 93.75\n",
            "Epoch [2/3]. Iter [1/1875]. Loss: 0.12. Accuracy: 96.88\n",
            "Epoch [2/3]. Iter [101/1875]. Loss: 0.04. Accuracy: 100.00\n",
            "Epoch [2/3]. Iter [201/1875]. Loss: 0.43. Accuracy: 93.75\n",
            "Epoch [2/3]. Iter [301/1875]. Loss: 0.11. Accuracy: 93.75\n",
            "Epoch [2/3]. Iter [401/1875]. Loss: 0.05. Accuracy: 100.00\n",
            "Epoch [2/3]. Iter [501/1875]. Loss: 0.30. Accuracy: 96.88\n",
            "Epoch [2/3]. Iter [601/1875]. Loss: 0.23. Accuracy: 87.50\n",
            "Epoch [2/3]. Iter [701/1875]. Loss: 0.40. Accuracy: 90.62\n",
            "Epoch [2/3]. Iter [801/1875]. Loss: 0.31. Accuracy: 87.50\n",
            "Epoch [2/3]. Iter [901/1875]. Loss: 0.19. Accuracy: 96.88\n",
            "Epoch [2/3]. Iter [1001/1875]. Loss: 0.14. Accuracy: 96.88\n",
            "Epoch [2/3]. Iter [1101/1875]. Loss: 0.19. Accuracy: 93.75\n",
            "Epoch [2/3]. Iter [1201/1875]. Loss: 0.51. Accuracy: 90.62\n",
            "Epoch [2/3]. Iter [1301/1875]. Loss: 0.09. Accuracy: 93.75\n",
            "Epoch [2/3]. Iter [1401/1875]. Loss: 0.18. Accuracy: 96.88\n",
            "Epoch [2/3]. Iter [1501/1875]. Loss: 0.24. Accuracy: 93.75\n",
            "Epoch [2/3]. Iter [1601/1875]. Loss: 0.18. Accuracy: 96.88\n",
            "Epoch [2/3]. Iter [1701/1875]. Loss: 0.13. Accuracy: 96.88\n",
            "Epoch [2/3]. Iter [1801/1875]. Loss: 0.25. Accuracy: 96.88\n",
            "Epoch [3/3]. Iter [1/1875]. Loss: 0.09. Accuracy: 96.88\n",
            "Epoch [3/3]. Iter [101/1875]. Loss: 0.32. Accuracy: 90.62\n",
            "Epoch [3/3]. Iter [201/1875]. Loss: 0.07. Accuracy: 96.88\n",
            "Epoch [3/3]. Iter [301/1875]. Loss: 0.04. Accuracy: 100.00\n",
            "Epoch [3/3]. Iter [401/1875]. Loss: 0.28. Accuracy: 93.75\n",
            "Epoch [3/3]. Iter [501/1875]. Loss: 0.07. Accuracy: 96.88\n",
            "Epoch [3/3]. Iter [601/1875]. Loss: 0.04. Accuracy: 96.88\n",
            "Epoch [3/3]. Iter [701/1875]. Loss: 0.05. Accuracy: 100.00\n",
            "Epoch [3/3]. Iter [801/1875]. Loss: 0.34. Accuracy: 93.75\n",
            "Epoch [3/3]. Iter [901/1875]. Loss: 0.07. Accuracy: 100.00\n",
            "Epoch [3/3]. Iter [1001/1875]. Loss: 0.27. Accuracy: 93.75\n",
            "Epoch [3/3]. Iter [1101/1875]. Loss: 0.03. Accuracy: 100.00\n",
            "Epoch [3/3]. Iter [1201/1875]. Loss: 0.02. Accuracy: 100.00\n",
            "Epoch [3/3]. Iter [1301/1875]. Loss: 0.06. Accuracy: 96.88\n",
            "Epoch [3/3]. Iter [1401/1875]. Loss: 0.21. Accuracy: 96.88\n",
            "Epoch [3/3]. Iter [1501/1875]. Loss: 0.17. Accuracy: 93.75\n",
            "Epoch [3/3]. Iter [1601/1875]. Loss: 0.21. Accuracy: 93.75\n",
            "Epoch [3/3]. Iter [1701/1875]. Loss: 0.34. Accuracy: 90.62\n",
            "Epoch [3/3]. Iter [1801/1875]. Loss: 0.02. Accuracy: 100.00\n",
            "Iter [1/313]. Accuracy: 96.88\n",
            "Final Accuracy: 94.38\n"
          ]
        }
      ],
      "source": [
        "cuda = torch.cuda.is_available()\n",
        "batch_size = 32\n",
        "train_loader, test_loader = create_data_generator(batch_size)\n",
        "model = MyLinearNetwork()\n",
        "print(model)\n",
        "if cuda:\n",
        "  model.cuda()\n",
        "n_epochs = 3\n",
        "learning_rate = 0.1\n",
        "optim = torch.optim.SGD(params = model.parameters(), lr = learning_rate, momentum=0.9)\n",
        "loss_fn = nn.CrossEntropyLoss()\n",
        "\n",
        "model.train() \n",
        "for epoch in range(1, n_epochs + 1):\n",
        "  for idx, (images, labels) in enumerate(train_loader):\n",
        "    if cuda:\n",
        "      images = images.cuda()\n",
        "      labels = labels.cuda()\n",
        "      \n",
        "    outputs = model(images)\n",
        "\n",
        "    loss = loss_fn(outputs, labels) \n",
        "\n",
        "    optim.zero_grad()\n",
        "    loss.backward()\n",
        "    optim.step() \n",
        "\n",
        "    predictions = torch.argmax(outputs, 1)\n",
        "    accuracy = (predictions == labels).float().mean() * 100.\n",
        "\n",
        "    loss = loss.item() # Convert to Python Scalar\n",
        "    accuracy = accuracy.item() # Convert to Python Scalar\n",
        "\n",
        "    if idx % 100 == 0:\n",
        "      print(\"Epoch [%d/%d]. Iter [%d/%d]. Loss: %0.2f. Accuracy: %0.2f\" % (epoch, n_epochs, idx + 1, len(train_loader), loss, accuracy))\n",
        "\n",
        "total_accuracy = 0.0 \n",
        "model.eval()\n",
        "for idx, (images, labels) in enumerate(test_loader):\n",
        "  if cuda:\n",
        "    images = images.cuda()\n",
        "    labels = labels.cuda()\n",
        "    \n",
        "  outputs = model(images)\n",
        "\n",
        "  predictions = torch.argmax(outputs, 1)\n",
        "  accuracy = (predictions == labels).float().mean() * 100.\n",
        "\n",
        "  accuracy = accuracy.item() # Convert to Python Scalar\n",
        "\n",
        "  total_accuracy += accuracy\n",
        "\n",
        "  if idx % 2000 == 0:\n",
        "    print(\"Iter [%d/%d]. Accuracy: %0.2f\" % (idx + 1, len(test_loader), accuracy))\n",
        "\n",
        "print(\"Final Accuracy: %0.2f\" % (total_accuracy / len(test_loader)))"
      ]
    },
    {
      "cell_type": "code",
      "execution_count": null,
      "metadata": {
        "id": "QP5Vc_zriFmK",
        "vscode": {
          "languageId": "python"
        }
      },
      "outputs": [],
      "source": []
    }
  ],
  "metadata": {
    "accelerator": "GPU",
    "colab": {
      "provenance": [],
      "include_colab_link": true
    },
    "kernelspec": {
      "display_name": "Python 3",
      "name": "python3"
    },
    "gpuClass": "standard"
  },
  "nbformat": 4,
  "nbformat_minor": 0
}